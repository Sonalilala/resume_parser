{
  "nbformat": 4,
  "nbformat_minor": 0,
  "metadata": {
    "colab": {
      "name": "resume_parser",
      "provenance": []
    },
    "kernelspec": {
      "name": "python3",
      "display_name": "Python 3"
    }
  },
  "cells": [
    {
      "cell_type": "code",
      "metadata": {
        "colab": {
          "base_uri": "https://localhost:8080/"
        },
        "id": "SG2QvdKOu09g",
        "outputId": "b0c5c664-3ec0-4a93-b099-09bd4e022539"
      },
      "source": [
        "! pip install spacy==2.0.16"
      ],
      "execution_count": 1,
      "outputs": [
        {
          "output_type": "stream",
          "text": [
            "Collecting spacy==2.0.16\n",
            "\u001b[?25l  Downloading https://files.pythonhosted.org/packages/ed/39/288640f591b29aac6996c97ddfafc3262ae0be7513e06bc560921b112d7c/spacy-2.0.16-cp36-cp36m-manylinux1_x86_64.whl (23.3MB)\n",
            "\u001b[K     |████████████████████████████████| 23.3MB 39.5MB/s \n",
            "\u001b[?25hCollecting preshed<2.1.0,>=2.0.1\n",
            "\u001b[?25l  Downloading https://files.pythonhosted.org/packages/20/93/f222fb957764a283203525ef20e62008675fd0a14ffff8cc1b1490147c63/preshed-2.0.1-cp36-cp36m-manylinux1_x86_64.whl (83kB)\n",
            "\u001b[K     |████████████████████████████████| 92kB 10.2MB/s \n",
            "\u001b[?25hRequirement already satisfied: requests<3.0.0,>=2.13.0 in /usr/local/lib/python3.6/dist-packages (from spacy==2.0.16) (2.23.0)\n",
            "Requirement already satisfied: cymem<2.1.0,>=2.0.2 in /usr/local/lib/python3.6/dist-packages (from spacy==2.0.16) (2.0.5)\n",
            "Collecting dill<0.3,>=0.2\n",
            "\u001b[?25l  Downloading https://files.pythonhosted.org/packages/fe/42/bfe2e0857bc284cbe6a011d93f2a9ad58a22cb894461b199ae72cfef0f29/dill-0.2.9.tar.gz (150kB)\n",
            "\u001b[K     |████████████████████████████████| 153kB 48.0MB/s \n",
            "\u001b[?25hCollecting thinc<6.13.0,>=6.12.0\n",
            "\u001b[?25l  Downloading https://files.pythonhosted.org/packages/db/a7/46640a46fd707aeb204aa4257a70974b6a22a0204ba703164d803215776f/thinc-6.12.1-cp36-cp36m-manylinux1_x86_64.whl (1.9MB)\n",
            "\u001b[K     |████████████████████████████████| 1.9MB 45.2MB/s \n",
            "\u001b[?25hCollecting plac<1.0.0,>=0.9.6\n",
            "  Downloading https://files.pythonhosted.org/packages/9e/9b/62c60d2f5bc135d2aa1d8c8a86aaf84edb719a59c7f11a4316259e61a298/plac-0.9.6-py2.py3-none-any.whl\n",
            "Requirement already satisfied: murmurhash<1.1.0,>=0.28.0 in /usr/local/lib/python3.6/dist-packages (from spacy==2.0.16) (1.0.5)\n",
            "Requirement already satisfied: numpy>=1.15.0 in /usr/local/lib/python3.6/dist-packages (from spacy==2.0.16) (1.19.5)\n",
            "Collecting ujson>=1.35\n",
            "\u001b[?25l  Downloading https://files.pythonhosted.org/packages/8d/54/2a618356e54282e3f4fa0745cbddeed104ed5ff2930c98f2d9dfa9677af8/ujson-4.0.2-cp36-cp36m-manylinux1_x86_64.whl (179kB)\n",
            "\u001b[K     |████████████████████████████████| 184kB 47.1MB/s \n",
            "\u001b[?25hCollecting msgpack-numpy<0.4.4\n",
            "  Downloading https://files.pythonhosted.org/packages/ad/45/464be6da85b5ca893cfcbd5de3b31a6710f636ccb8521b17bd4110a08d94/msgpack_numpy-0.4.3.2-py2.py3-none-any.whl\n",
            "Collecting regex==2018.01.10\n",
            "\u001b[?25l  Downloading https://files.pythonhosted.org/packages/76/f4/7146c3812f96fcaaf2d06ff6862582302626a59011ccb6f2833bb38d80f7/regex-2018.01.10.tar.gz (612kB)\n",
            "\u001b[K     |████████████████████████████████| 614kB 40.4MB/s \n",
            "\u001b[?25hRequirement already satisfied: chardet<4,>=3.0.2 in /usr/local/lib/python3.6/dist-packages (from requests<3.0.0,>=2.13.0->spacy==2.0.16) (3.0.4)\n",
            "Requirement already satisfied: idna<3,>=2.5 in /usr/local/lib/python3.6/dist-packages (from requests<3.0.0,>=2.13.0->spacy==2.0.16) (2.10)\n",
            "Requirement already satisfied: urllib3!=1.25.0,!=1.25.1,<1.26,>=1.21.1 in /usr/local/lib/python3.6/dist-packages (from requests<3.0.0,>=2.13.0->spacy==2.0.16) (1.24.3)\n",
            "Requirement already satisfied: certifi>=2017.4.17 in /usr/local/lib/python3.6/dist-packages (from requests<3.0.0,>=2.13.0->spacy==2.0.16) (2020.12.5)\n",
            "Collecting cytoolz<0.10,>=0.9.0\n",
            "\u001b[?25l  Downloading https://files.pythonhosted.org/packages/36/f4/9728ba01ccb2f55df9a5af029b48ba0aaca1081bbd7823ea2ee223ba7a42/cytoolz-0.9.0.1.tar.gz (443kB)\n",
            "\u001b[K     |████████████████████████████████| 450kB 40.2MB/s \n",
            "\u001b[?25hCollecting wrapt<1.11.0,>=1.10.0\n",
            "  Downloading https://files.pythonhosted.org/packages/a0/47/66897906448185fcb77fc3c2b1bc20ed0ecca81a0f2f88eda3fc5a34fc3d/wrapt-1.10.11.tar.gz\n",
            "Requirement already satisfied: six<2.0.0,>=1.10.0 in /usr/local/lib/python3.6/dist-packages (from thinc<6.13.0,>=6.12.0->spacy==2.0.16) (1.15.0)\n",
            "Requirement already satisfied: tqdm<5.0.0,>=4.10.0 in /usr/local/lib/python3.6/dist-packages (from thinc<6.13.0,>=6.12.0->spacy==2.0.16) (4.41.1)\n",
            "Collecting msgpack<0.6.0,>=0.5.6\n",
            "\u001b[?25l  Downloading https://files.pythonhosted.org/packages/22/4e/dcf124fd97e5f5611123d6ad9f40ffd6eb979d1efdc1049e28a795672fcd/msgpack-0.5.6-cp36-cp36m-manylinux1_x86_64.whl (315kB)\n",
            "\u001b[K     |████████████████████████████████| 317kB 41.2MB/s \n",
            "\u001b[?25hRequirement already satisfied: toolz>=0.8.0 in /usr/local/lib/python3.6/dist-packages (from cytoolz<0.10,>=0.9.0->thinc<6.13.0,>=6.12.0->spacy==2.0.16) (0.11.1)\n",
            "Building wheels for collected packages: dill, regex, cytoolz, wrapt\n",
            "  Building wheel for dill (setup.py) ... \u001b[?25l\u001b[?25hdone\n",
            "  Created wheel for dill: filename=dill-0.2.9-cp36-none-any.whl size=77404 sha256=a85731466758573fe1b3e993e90f2fbd282ccbfb6bef403b6edb5258f37e519e\n",
            "  Stored in directory: /root/.cache/pip/wheels/5b/d7/0f/e58eae695403de585269f4e4a94e0cd6ca60ec0c202936fa4a\n",
            "  Building wheel for regex (setup.py) ... \u001b[?25l\u001b[?25hdone\n",
            "  Created wheel for regex: filename=regex-2018.1.10-cp36-cp36m-linux_x86_64.whl size=548006 sha256=310424ab5a3be41c92c2caab569a2282b53da5efcf394cd98c595ac983910ed0\n",
            "  Stored in directory: /root/.cache/pip/wheels/74/17/3f/c77bba99efd74ba1a19862c9dd97f4b6d735e2826721dc00ff\n",
            "  Building wheel for cytoolz (setup.py) ... \u001b[?25l\u001b[?25hdone\n",
            "  Created wheel for cytoolz: filename=cytoolz-0.9.0.1-cp36-cp36m-linux_x86_64.whl size=1247693 sha256=a88522c7554b5aa1feb8e838d67362c0c8a8d2ebb02e7cb7b6c6eb3934a19b2a\n",
            "  Stored in directory: /root/.cache/pip/wheels/88/f3/11/9817b001e59ab04889e8cffcbd9087e2e2155b9ebecfc8dd38\n",
            "  Building wheel for wrapt (setup.py) ... \u001b[?25l\u001b[?25hdone\n",
            "  Created wheel for wrapt: filename=wrapt-1.10.11-cp36-cp36m-linux_x86_64.whl size=65109 sha256=9fdabe13f5ea4a20878a39b2d29a46e587c5a51c4976298f8a344d574ed3835e\n",
            "  Stored in directory: /root/.cache/pip/wheels/48/5d/04/22361a593e70d23b1f7746d932802efe1f0e523376a74f321e\n",
            "Successfully built dill regex cytoolz wrapt\n",
            "\u001b[31mERROR: tensorflow 2.4.1 has requirement wrapt~=1.12.1, but you'll have wrapt 1.10.11 which is incompatible.\u001b[0m\n",
            "\u001b[31mERROR: multiprocess 0.70.11.1 has requirement dill>=0.3.3, but you'll have dill 0.2.9 which is incompatible.\u001b[0m\n",
            "\u001b[31mERROR: fastai 1.0.61 has requirement spacy>=2.0.18; python_version < \"3.8\", but you'll have spacy 2.0.16 which is incompatible.\u001b[0m\n",
            "\u001b[31mERROR: en-core-web-sm 2.2.5 has requirement spacy>=2.2.2, but you'll have spacy 2.0.16 which is incompatible.\u001b[0m\n",
            "Installing collected packages: preshed, dill, cytoolz, wrapt, plac, msgpack, msgpack-numpy, thinc, ujson, regex, spacy\n",
            "  Found existing installation: preshed 3.0.5\n",
            "    Uninstalling preshed-3.0.5:\n",
            "      Successfully uninstalled preshed-3.0.5\n",
            "  Found existing installation: dill 0.3.3\n",
            "    Uninstalling dill-0.3.3:\n",
            "      Successfully uninstalled dill-0.3.3\n",
            "  Found existing installation: wrapt 1.12.1\n",
            "    Uninstalling wrapt-1.12.1:\n",
            "      Successfully uninstalled wrapt-1.12.1\n",
            "  Found existing installation: plac 1.1.3\n",
            "    Uninstalling plac-1.1.3:\n",
            "      Successfully uninstalled plac-1.1.3\n",
            "  Found existing installation: msgpack 1.0.2\n",
            "    Uninstalling msgpack-1.0.2:\n",
            "      Successfully uninstalled msgpack-1.0.2\n",
            "  Found existing installation: thinc 7.4.0\n",
            "    Uninstalling thinc-7.4.0:\n",
            "      Successfully uninstalled thinc-7.4.0\n",
            "  Found existing installation: regex 2019.12.20\n",
            "    Uninstalling regex-2019.12.20:\n",
            "      Successfully uninstalled regex-2019.12.20\n",
            "  Found existing installation: spacy 2.2.4\n",
            "    Uninstalling spacy-2.2.4:\n",
            "      Successfully uninstalled spacy-2.2.4\n",
            "Successfully installed cytoolz-0.9.0.1 dill-0.2.9 msgpack-0.5.6 msgpack-numpy-0.4.3.2 plac-0.9.6 preshed-2.0.1 regex-2018.1.10 spacy-2.0.16 thinc-6.12.1 ujson-4.0.2 wrapt-1.10.11\n"
          ],
          "name": "stdout"
        }
      ]
    },
    {
      "cell_type": "code",
      "metadata": {
        "colab": {
          "base_uri": "https://localhost:8080/"
        },
        "id": "-gK43SUlu4Hl",
        "outputId": "29c68e16-429f-4907-96c3-f63169fd944c"
      },
      "source": [
        "! python3 -m spacy download en_core_web_sm"
      ],
      "execution_count": 2,
      "outputs": [
        {
          "output_type": "stream",
          "text": [
            "Collecting en_core_web_sm==2.0.0\n",
            "\u001b[?25l  Downloading https://github.com/explosion/spacy-models/releases/download/en_core_web_sm-2.0.0/en_core_web_sm-2.0.0.tar.gz (37.4MB)\n",
            "\u001b[K     |████████████████████████████████| 37.4MB 1.2MB/s \n",
            "\u001b[?25hBuilding wheels for collected packages: en-core-web-sm\n",
            "  Building wheel for en-core-web-sm (setup.py) ... \u001b[?25l\u001b[?25hdone\n",
            "  Created wheel for en-core-web-sm: filename=en_core_web_sm-2.0.0-cp36-none-any.whl size=37405978 sha256=83899a02b557eeb6aaed5d53782e251dab9445fe224d3fe341930b5cc5058e28\n",
            "  Stored in directory: /tmp/pip-ephem-wheel-cache-qfsz6a6d/wheels/54/7c/d8/f86364af8fbba7258e14adae115f18dd2c91552406edc3fdaa\n",
            "Successfully built en-core-web-sm\n",
            "Installing collected packages: en-core-web-sm\n",
            "  Found existing installation: en-core-web-sm 2.2.5\n",
            "    Uninstalling en-core-web-sm-2.2.5:\n",
            "      Successfully uninstalled en-core-web-sm-2.2.5\n",
            "Successfully installed en-core-web-sm-2.0.0\n",
            "\n",
            "\u001b[93m    Linking successful\u001b[0m\n",
            "    /usr/local/lib/python3.6/dist-packages/en_core_web_sm -->\n",
            "    /usr/local/lib/python3.6/dist-packages/spacy/data/en_core_web_sm\n",
            "\n",
            "    You can now load the model via spacy.load('en_core_web_sm')\n",
            "\n"
          ],
          "name": "stdout"
        }
      ]
    },
    {
      "cell_type": "code",
      "metadata": {
        "id": "UONta8ltu8Ad"
      },
      "source": [
        "# loading spacy\r\n",
        "import spacy\r\n"
      ],
      "execution_count": 3,
      "outputs": []
    },
    {
      "cell_type": "code",
      "metadata": {
        "id": "dkjXBbACvGme"
      },
      "source": [
        "# train data created manually but we can use prodigy , ner annotation tool\r\n",
        "TRAIN_DATA = [\r\n",
        "(\"\"\"Business Process Analyst....An opportunity has been created to join Proven SA at a very exciting time for a business process analyst to work as a part of qualified team of transformation experts to assist initially in the mapping of operational processes and potentially the future transformation of internal operating processes, ERP implementation and inter-departmental shared services.  This is a permanent full-time role.....This is a very much hands on role, getting involved in the mapping, documenting and analyzing operational processes, outlining all supporting process elements and reporting.  This will encompass:....Undertaking diagnostic investigations including business process mapping and value stream mapping of end to end processes for service delivery, operational structure and organisational and operational capability – including pre-identification of process changes, alignment and consolidation opportunities, developing areas for transformation through re-engineering or restructuring of services / processes in scope of the project to enhance efficiency of service delivery..Communicating with all involved stakeholders on all diagnostics and design findings ..Developing function specific frameworks to track, monitor and report on performance of both work and the workforce...Redesign of process flows using lean methodology incorporating best practices..Development of Standard Operating Procedures and KPIs for the redefined processes, creation of a Services Catalogue and associated Service Level Agreements for the end to end services...Developing and delivering relevant reports/updates showcasing progress and identifying potential solutions including the development of a transformation plan for delivery in 2019..(possible future) Implementation of new process flows, embedding the change and ensuring operational stability.....We are seeking particular subject matter expertise and experience for this position; individuals who know what good looks like and can inject industry best practice into the new operational designs for existing workflows.  ....The successful applicants must have specific experience in one or more of the following areas:  ....Operational Service Delivery..Human Resource Management..Accounting and Finance Functions ..Administration and Support insourced and outsourced services ..Marketing and Inbound Sales..Facilities Management (Engineering, Maintenance) insourced and outsourced services....In addition, you will have ....A relevant Bachelor degree. Masters would be preferred..Strong analytical and quantitative skills; statistically literate ..\tSix Sigma Black Belt certified preferred; green belt essential..\tProject Management certification preferred (PMP, Prince2) ..\tA minimum of 5 years of Transformation experience in business support is preferable. ..A good understanding of shared services and back office operations  ..Ability to evaluate Risk & Controls..Excellent organizational skills and strong time management capabilities..Good working experience of MS Office products. Experienced user of process modelling tools (e.g. Microsoft Visio), and Microsoft Office tools (Excel, Word and PowerPoint)..Clear oral and written communication skills. Ability to understand, explain and present complex business problems, at all levels of the organization, in a persuasive and convincing manner..Ability to work remotely, independently or as part of a team...............1\r\n",
        "\"\"\", {\"entities\": [(0, 24, \"ROLE\"),(222,254, \"SKILL\"),(275,328,\"SKILL\"),(330, 348,\"SKILL\"),(353,387,\"SKILL\"),\r\n",
        "                   (222,229,\"SOFTSKILL\"),(497,508,\"SOFTSKILL\"),(513,544,\"SOFTSKILL\"),(546,587,\"SOFTSKILL\"),\r\n",
        "                   (592,601,\"SOFTSKILL\")]}),\r\n",
        "\r\n",
        "              (\"\"\"UI Developer..Interview Requirement ..Min Exp – 2 to 5 years for Normal..Umair role – 5+ years..Skills – Total Exp ..Angular 2,3,4,5,6 version – 3-4 years (<Ok to consider)..Javascript – 5+ (Old technology) Mandatory..User Experience – 5+ (< Ok to consider)..HTML & CSS – 5+ Mandatory..Responsive Website – 5+ (compatible website for mobile)..Cross Brower Compliance – 5+........Skills: (these are my skills STC doesn’t require half of them)..Native JavaScript Developer with experience in modern design patterns and framework including Angular, React, Vue, Backbone, Ember etc...Have expert level skills in using jQuery, D3 and other JS and SVG related libraries. ..Expert level skills in HTML5 and CSS3...Expert level skills in designing User Experience for almost all kind of devices... ..Daily routine: (STC require all the items below)..Maintain GITLAB...Manage UI team and help them to fasten their work by giving them problem solving advices and solutions. (I don’t let them waste even 1 hour on thinking and finding the solution this is crucial because we don’t have luxury to let them waste their time on learning or finding solutions. That’s why UI lead expert skills in various technologies is important.)..Developing STC Processes in Angular 6 by myself. (It is important, It helps me to understand if a team member is taking longer on something to deliver what are his issues. Because most of the time UI seems easy but in fact it’s very complicated behind the scenes.)..Maintaining and improving Form Builder. (Should have architect level experience for this job)...Maintaining and improving MockServer. (Should have architect level experience for this job).\r\n",
        "\"\"\", {\"entities\": [(0,12, \"UI Developer\"),(117, 124, \"SKILL\"),(174,184,\"SKILL\"),(259,263,\"HTML\"),(266,269,\"SKILL\")\r\n",
        "              ,(286,304,\"SKILL\"),(343,366,\"SKILL\"),(117,124,\"SKILL\"),(546,551,\"SKILL\"),(553,556,\"SKILL\"),\r\n",
        "                   (558,566,\"SKILL\"),(568,573,\"SKILL\"),(614,620,\"SKILL\"),(622,624,\"SKILL\"),(635,637,\"SKILL\"),\r\n",
        "                   (642,645,\"SKILL\"),(690,695,\"SKILL\"),(700, 704, \"SKILL\"),(851,857,\"SKILL\"),(1606,1616,(\"SKILL\")),\r\n",
        "                   (860,874,\"SOFTSKILL\"),(1218,1242,\"SOFTSKILL\"),(1537,1563,\"SOFTSKILL\")]})\r\n",
        "              ]\r\n"
      ],
      "execution_count": 5,
      "outputs": []
    },
    {
      "cell_type": "code",
      "metadata": {
        "id": "VCHwD_3Jw453"
      },
      "source": [
        "# creating custom ner\r\n",
        "# blank model\r\n",
        "nlp = spacy.blank('en')\r\n",
        "\r\n",
        "def train_model(train_data):\r\n",
        "    if 'ner' not in nlp.pipe_names:\r\n",
        "        ner = nlp.create_pipe('ner')\r\n",
        "        nlp.add_pipe(ner, last = True)\r\n",
        "    \r\n",
        "    for _, annotation in train_data:\r\n",
        "        for ent in annotation['entities']:\r\n",
        "            ner.add_label(ent[2])\r\n",
        "            \r\n",
        "    \r\n",
        "    other_pipes = [pipe for pipe in nlp.pipe_names if pipe != 'ner']\r\n",
        "    with nlp.disable_pipes(*other_pipes):  # only train NER\r\n",
        "        optimizer = nlp.begin_training()\r\n",
        "        # 38th iteration gives best result \r\n",
        "        for itn in range(50):\r\n",
        "            print(\"Statring iteration \" + str(itn))\r\n",
        "            random.shuffle(train_data)\r\n",
        "            losses = {}\r\n",
        "            index = 0\r\n",
        "            for text, annotations in train_data:\r\n",
        "                try:\r\n",
        "                    nlp.update(\r\n",
        "                        [text],  # batch of texts\r\n",
        "                        [annotations],  # batch of annotations\r\n",
        "                        drop=0.2,  # dropout - make it harder to memorise data\r\n",
        "                        sgd=optimizer,  # callable to update weights\r\n",
        "                        losses=losses)\r\n",
        "                except Exception as e:\r\n",
        "                    pass\r\n",
        "                \r\n",
        "            print(losses)\r\n",
        "    "
      ],
      "execution_count": 12,
      "outputs": []
    },
    {
      "cell_type": "code",
      "metadata": {
        "colab": {
          "base_uri": "https://localhost:8080/"
        },
        "id": "2a7ULHq-ysc4",
        "outputId": "f6b344e1-be12-41b1-de2e-c6020d9fdaf7"
      },
      "source": [
        "# calling the training function\r\n",
        "train_model(TRAIN_DATA)\r\n"
      ],
      "execution_count": 13,
      "outputs": [
        {
          "output_type": "stream",
          "text": [
            "Warning: Unnamed vectors -- this won't allow multiple vectors models to be loaded. (Shape: (0, 0))\n",
            "Statring iteration 0\n",
            "{'ner': 524.2695153411478}\n",
            "Statring iteration 1\n",
            "{'ner': 160.52185529358349}\n",
            "Statring iteration 2\n",
            "{'ner': 66.14296272121041}\n",
            "Statring iteration 3\n",
            "{'ner': 62.455236095906145}\n",
            "Statring iteration 4\n",
            "{'ner': 80.16739635906035}\n",
            "Statring iteration 5\n",
            "{'ner': 73.1219092166316}\n",
            "Statring iteration 6\n",
            "{'ner': 120.0563336187501}\n",
            "Statring iteration 7\n",
            "{'ner': 46.323055198790456}\n",
            "Statring iteration 8\n",
            "{'ner': 40.249620037202384}\n",
            "Statring iteration 9\n",
            "{'ner': 32.47495920352185}\n",
            "Statring iteration 10\n",
            "{'ner': 32.86578581617757}\n",
            "Statring iteration 11\n",
            "{'ner': 25.037512014980596}\n",
            "Statring iteration 12\n",
            "{'ner': 24.19217644442882}\n",
            "Statring iteration 13\n",
            "{'ner': 23.759313575554668}\n",
            "Statring iteration 14\n",
            "{'ner': 27.39415476435285}\n",
            "Statring iteration 15\n",
            "{'ner': 20.76818077005538}\n",
            "Statring iteration 16\n",
            "{'ner': 7.945015551775294}\n",
            "Statring iteration 17\n",
            "{'ner': 17.601738164170893}\n",
            "Statring iteration 18\n",
            "{'ner': 11.659983929311299}\n",
            "Statring iteration 19\n",
            "{'ner': 14.40379771496262}\n",
            "Statring iteration 20\n",
            "{'ner': 9.609627655187037}\n",
            "Statring iteration 21\n",
            "{'ner': 5.240901729640415}\n",
            "Statring iteration 22\n",
            "{'ner': 1.5261775412265965}\n",
            "Statring iteration 23\n",
            "{'ner': 6.578767729605126}\n",
            "Statring iteration 24\n",
            "{'ner': 3.5656256676061138}\n",
            "Statring iteration 25\n",
            "{'ner': 11.131194136297177}\n",
            "Statring iteration 26\n",
            "{'ner': 12.085906915693979}\n",
            "Statring iteration 27\n",
            "{'ner': 2.000699094048004}\n",
            "Statring iteration 28\n",
            "{'ner': 0.005474504324248021}\n",
            "Statring iteration 29\n",
            "{'ner': 3.9699729091286096}\n",
            "Statring iteration 30\n",
            "{'ner': 3.572292638728986}\n",
            "Statring iteration 31\n",
            "{'ner': 1.37252817132526}\n",
            "Statring iteration 32\n",
            "{'ner': 3.0594127523398296}\n",
            "Statring iteration 33\n",
            "{'ner': 8.306817462373626}\n",
            "Statring iteration 34\n",
            "{'ner': 1.746164204254617}\n",
            "Statring iteration 35\n",
            "{'ner': 0.4661804597000175}\n",
            "Statring iteration 36\n",
            "{'ner': 0.08411615499680465}\n",
            "Statring iteration 37\n",
            "{'ner': 0.13039419494546578}\n",
            "Statring iteration 38\n",
            "{'ner': 0.04475879284336453}\n",
            "Statring iteration 39\n",
            "{'ner': 0.15233382724579103}\n",
            "Statring iteration 40\n",
            "{'ner': 2.073611600105622}\n",
            "Statring iteration 41\n",
            "{'ner': 3.284755256848709}\n",
            "Statring iteration 42\n",
            "{'ner': 9.585700364069464e-08}\n",
            "Statring iteration 43\n",
            "{'ner': 3.482793806789744e-05}\n",
            "Statring iteration 44\n",
            "{'ner': 5.275778364261704}\n",
            "Statring iteration 45\n",
            "{'ner': 3.8901905827050323}\n",
            "Statring iteration 46\n",
            "{'ner': 2.001918433319085}\n",
            "Statring iteration 47\n",
            "{'ner': 6.750384795261763e-05}\n",
            "Statring iteration 48\n",
            "{'ner': 2.4110780078129235}\n",
            "Statring iteration 49\n",
            "{'ner': 2.130821266498382}\n"
          ],
          "name": "stdout"
        }
      ]
    },
    {
      "cell_type": "code",
      "metadata": {
        "colab": {
          "base_uri": "https://localhost:8080/"
        },
        "id": "vh3THfSkyvTb",
        "outputId": "3b854d2d-80ee-4f5c-eb19-5b916a2d104f"
      },
      "source": [
        "text = \"\"\"UI Developer\r\n",
        "Interview Requirement \r\n",
        "Min Exp – 2 to 5 years for Normal\r\n",
        "Umair role – 5+ years\r\n",
        "Skills – Total Exp \r\n",
        "•\tAngular 2,3,4,5,6 version – 3-4 years (<Ok to consider)\r\n",
        "•\tJavascript – 5+ (Old technology) Mandatory\r\n",
        "•\tUser Experience – 5+ (< Ok to consider)\r\n",
        "•\tHTML & CSS – 5+ Mandatory\r\n",
        "•\tResponsive Website – 5+ (compatible website for mobile)\r\n",
        "•\tCross Brower Compliance – 5+\r\n",
        "\r\n",
        "\r\n",
        "\r\n",
        "Skills: (these are my skills STC doesn’t require half of them)\r\n",
        "Native JavaScript Developer with experience in modern design patterns and framework including Angular, React, Vue, Backbone, Ember etc.\r\n",
        "Have expert level skills in using jQuery, D3 and other JS and SVG related libraries. \r\n",
        "Expert level skills in HTML5 and CSS3.\r\n",
        "Expert level skills in designing User Experience for almost all kind of devices.\r\n",
        " \r\n",
        "Daily routine: (STC require all the items below)\r\n",
        "Maintain GITLAB.\r\n",
        "Manage UI team and help them to fasten their work by giving them problem solving advices and solutions. (I don’t let them waste even 1 hour on thinking and finding the solution this is crucial because we don’t have luxury to let them waste their time on learning or finding solutions. That’s why UI lead expert skills in various technologies is important.)\r\n",
        "Developing STC Processes in Angular 6 by myself. (It is important, It helps me to understand if a team member is taking longer on something to deliver what are his issues. Because most of the time UI seems easy but in fact it’s very complicated behind the scenes.)\r\n",
        "Maintaining and improving Form Builder. (Should have architect level experience for this job).\r\n",
        "Maintaining and improving MockServer. (Should have architect level experience for this job).\r\n",
        "\"\"\"\r\n",
        "doc = nlp(text)\r\n",
        "for ent in doc.ents:\r\n",
        "    print(ent.text,ent.label_)\r\n",
        "    if ent.label_ == 'SKILL':\r\n",
        "      print('yes')"
      ],
      "execution_count": 15,
      "outputs": [
        {
          "output_type": "stream",
          "text": [
            "UI Developer UI Developer\n",
            "Angular SKILL\n",
            "yes\n",
            "Javascript SKILL\n",
            "yes\n",
            "HTML HTML\n",
            "CSS SKILL\n",
            "yes\n",
            "Responsive Website SKILL\n",
            "yes\n",
            "Cross Brower Compliance SKILL\n",
            "yes\n",
            "React SKILL\n",
            "yes\n",
            "Vue SKILL\n",
            "yes\n",
            "Backbone SKILL\n",
            "yes\n",
            "Ember SKILL\n",
            "yes\n",
            "jQuery SKILL\n",
            "yes\n",
            "D3 SKILL\n",
            "yes\n",
            "JS SKILL\n",
            "yes\n",
            "SVG SKILL\n",
            "yes\n",
            "HTML5 SKILL\n",
            "yes\n",
            "CSS3 SKILL\n",
            "yes\n",
            "GITLAB SKILL\n",
            "yes\n",
            "Developing STC Processes SOFTSKILL\n",
            "architect level experience SOFTSKILL\n",
            "MockServer SKILL\n",
            "yes\n"
          ],
          "name": "stdout"
        }
      ]
    },
    {
      "cell_type": "code",
      "metadata": {
        "id": "RT1PdeA6zFVH"
      },
      "source": [
        "# summarize resume\r\n",
        "# lets take one folder for example\r\n",
        "path = \"/content/drive/MyDrive/UI Developer/Profiles\"\r\n"
      ],
      "execution_count": 16,
      "outputs": []
    },
    {
      "cell_type": "code",
      "metadata": {
        "id": "VaHu5hnr0WTh"
      },
      "source": [
        "# summarizer related functions\r\n",
        "\r\n",
        "# info extractor methods\r\n",
        "\r\n",
        "# uses regular experession to extract years\r\n",
        "def extract_experience(input_text):\r\n",
        "    return re.search(\"\\d+\\syears\", input_text).group(0)\r\n",
        "\r\n",
        "# extract skills\r\n",
        "def extract_information(text):\r\n",
        "  role = \"\"\r\n",
        "  skills = []\r\n",
        "  doc = nlp(text)\r\n",
        "  for ent in doc.ents:\r\n",
        "    #print(ent.text,ent.label_)\r\n",
        "    if ent.label_ == 'SKILL' or ent.label_=='SOFTSKILL':\r\n",
        "      skills.append(ent.text)\r\n",
        "    if ent.label_ == 'ROLE':\r\n",
        "      role = ent.text\r\n",
        "  return role, skills\r\n"
      ],
      "execution_count": 17,
      "outputs": []
    },
    {
      "cell_type": "code",
      "metadata": {
        "colab": {
          "base_uri": "https://localhost:8080/"
        },
        "id": "lsNZm8kp20yU",
        "outputId": "91bf8e43-d983-4fe5-e829-65146f5daa16"
      },
      "source": [
        "! pip install docx2txt"
      ],
      "execution_count": 24,
      "outputs": [
        {
          "output_type": "stream",
          "text": [
            "Collecting docx2txt\n",
            "  Downloading https://files.pythonhosted.org/packages/7d/7d/60ee3f2b16d9bfdfa72e8599470a2c1a5b759cb113c6fe1006be28359327/docx2txt-0.8.tar.gz\n",
            "Building wheels for collected packages: docx2txt\n",
            "  Building wheel for docx2txt (setup.py) ... \u001b[?25l\u001b[?25hdone\n",
            "  Created wheel for docx2txt: filename=docx2txt-0.8-cp36-none-any.whl size=3960 sha256=2e5368bc08a7d06488cb980ae2d8819b5fc01a07a483cc32e25241a4f2ecfa0d\n",
            "  Stored in directory: /root/.cache/pip/wheels/b2/1f/26/a051209bbb77fc6bcfae2bb7e01fa0ff941b82292ab084d596\n",
            "Successfully built docx2txt\n",
            "Installing collected packages: docx2txt\n",
            "Successfully installed docx2txt-0.8\n"
          ],
          "name": "stdout"
        }
      ]
    },
    {
      "cell_type": "code",
      "metadata": {
        "colab": {
          "base_uri": "https://localhost:8080/"
        },
        "id": "aQVjMbO-7mPM",
        "outputId": "74f6b54c-5562-4ec2-e388-fff017a634ad"
      },
      "source": [
        "!pip install docx "
      ],
      "execution_count": 43,
      "outputs": [
        {
          "output_type": "stream",
          "text": [
            "Collecting docx\n",
            "\u001b[?25l  Downloading https://files.pythonhosted.org/packages/4a/8e/5a01644697b03016de339ef444cfff28367f92984dc74eddaab1ed60eada/docx-0.2.4.tar.gz (54kB)\n",
            "\r\u001b[K     |██████                          | 10kB 16.2MB/s eta 0:00:01\r\u001b[K     |████████████                    | 20kB 15.5MB/s eta 0:00:01\r\u001b[K     |██████████████████              | 30kB 9.7MB/s eta 0:00:01\r\u001b[K     |███████████████████████▉        | 40kB 6.9MB/s eta 0:00:01\r\u001b[K     |█████████████████████████████▉  | 51kB 4.4MB/s eta 0:00:01\r\u001b[K     |████████████████████████████████| 61kB 3.0MB/s \n",
            "\u001b[?25hRequirement already satisfied: lxml in /usr/local/lib/python3.6/dist-packages (from docx) (4.2.6)\n",
            "Requirement already satisfied: Pillow>=2.0 in /usr/local/lib/python3.6/dist-packages (from docx) (7.0.0)\n",
            "Building wheels for collected packages: docx\n",
            "  Building wheel for docx (setup.py) ... \u001b[?25l\u001b[?25hdone\n",
            "  Created wheel for docx: filename=docx-0.2.4-cp36-none-any.whl size=53926 sha256=3985d8c93406048fb99677d1b82c9feb784084322f73556d6e62d8cb71384ac1\n",
            "  Stored in directory: /root/.cache/pip/wheels/cc/8d/09/563edfd874a35c0c7ed129b6c4fa890efa4c26458bdec6ffc1\n",
            "Successfully built docx\n",
            "Installing collected packages: docx\n",
            "Successfully installed docx-0.2.4\n"
          ],
          "name": "stdout"
        }
      ]
    },
    {
      "cell_type": "code",
      "metadata": {
        "colab": {
          "base_uri": "https://localhost:8080/",
          "height": 1000
        },
        "id": "YhekVvxf8RBK",
        "outputId": "aff53df0-474f-498a-87f9-7fcfb449e9a2"
      },
      "source": [
        "! pip install textract\r\n",
        "import textract\r\n",
        "\r\n"
      ],
      "execution_count": 47,
      "outputs": [
        {
          "output_type": "stream",
          "text": [
            "Collecting textract\n",
            "  Downloading https://files.pythonhosted.org/packages/32/31/ef9451e6e48a1a57e337c5f20d4ef58c1a13d91560d2574c738b1320bb8d/textract-1.6.3-py3-none-any.whl\n",
            "Collecting six==1.12.0\n",
            "  Downloading https://files.pythonhosted.org/packages/73/fb/00a976f728d0d1fecfe898238ce23f502a721c0ac0ecfedb80e0d88c64e9/six-1.12.0-py2.py3-none-any.whl\n",
            "Collecting argcomplete==1.10.0\n",
            "  Downloading https://files.pythonhosted.org/packages/4d/82/f44c9661e479207348a979b1f6f063625d11dc4ca6256af053719bbb0124/argcomplete-1.10.0-py2.py3-none-any.whl\n",
            "Collecting extract-msg==0.23.1\n",
            "\u001b[?25l  Downloading https://files.pythonhosted.org/packages/a1/90/84485a914ed90adb5e87df17e626be04162fbba146dfecf34643659a4633/extract_msg-0.23.1-py2.py3-none-any.whl (45kB)\n",
            "\u001b[K     |████████████████████████████████| 51kB 4.5MB/s \n",
            "\u001b[?25hCollecting pdfminer.six==20181108\n",
            "\u001b[?25l  Downloading https://files.pythonhosted.org/packages/8a/fd/6e8746e6965d1a7ea8e97253e3d79e625da5547e8f376f88de5d024bacb9/pdfminer.six-20181108-py2.py3-none-any.whl (5.6MB)\n",
            "\u001b[K     |████████████████████████████████| 5.6MB 8.5MB/s \n",
            "\u001b[?25hCollecting python-pptx==0.6.18\n",
            "\u001b[?25l  Downloading https://files.pythonhosted.org/packages/bf/86/eb979f7b0333ec769041aae36df8b9f1bd8bea5bbad44620663890dce561/python-pptx-0.6.18.tar.gz (8.9MB)\n",
            "\u001b[K     |████████████████████████████████| 8.9MB 48.8MB/s \n",
            "\u001b[?25hCollecting SpeechRecognition==3.8.1\n",
            "\u001b[?25l  Downloading https://files.pythonhosted.org/packages/26/e1/7f5678cd94ec1234269d23756dbdaa4c8cfaed973412f88ae8adf7893a50/SpeechRecognition-3.8.1-py2.py3-none-any.whl (32.8MB)\n",
            "\u001b[K     |████████████████████████████████| 32.8MB 108kB/s \n",
            "\u001b[?25hCollecting EbookLib==0.17.1\n",
            "\u001b[?25l  Downloading https://files.pythonhosted.org/packages/00/38/7d6ab2e569a9165249619d73b7bc6be0e713a899a3bc2513814b6598a84c/EbookLib-0.17.1.tar.gz (111kB)\n",
            "\u001b[K     |████████████████████████████████| 112kB 55.6MB/s \n",
            "\u001b[?25hRequirement already satisfied: docx2txt==0.8 in /usr/local/lib/python3.6/dist-packages (from textract) (0.8)\n",
            "Requirement already satisfied: chardet==3.0.4 in /usr/local/lib/python3.6/dist-packages (from textract) (3.0.4)\n",
            "Collecting xlrd==1.2.0\n",
            "\u001b[?25l  Downloading https://files.pythonhosted.org/packages/b0/16/63576a1a001752e34bf8ea62e367997530dc553b689356b9879339cf45a4/xlrd-1.2.0-py2.py3-none-any.whl (103kB)\n",
            "\u001b[K     |████████████████████████████████| 112kB 48.6MB/s \n",
            "\u001b[?25hCollecting beautifulsoup4==4.8.0\n",
            "\u001b[?25l  Downloading https://files.pythonhosted.org/packages/1a/b7/34eec2fe5a49718944e215fde81288eec1fa04638aa3fb57c1c6cd0f98c3/beautifulsoup4-4.8.0-py3-none-any.whl (97kB)\n",
            "\u001b[K     |████████████████████████████████| 102kB 10.5MB/s \n",
            "\u001b[?25hCollecting imapclient==2.1.0\n",
            "\u001b[?25l  Downloading https://files.pythonhosted.org/packages/dc/39/e1c2c2c6e2356ab6ea81fcfc0a74b044b311d6a91a45300811d9a6077ef7/IMAPClient-2.1.0-py2.py3-none-any.whl (73kB)\n",
            "\u001b[K     |████████████████████████████████| 81kB 8.5MB/s \n",
            "\u001b[?25hCollecting olefile==0.46\n",
            "\u001b[?25l  Downloading https://files.pythonhosted.org/packages/34/81/e1ac43c6b45b4c5f8d9352396a14144bba52c8fec72a80f425f6a4d653ad/olefile-0.46.zip (112kB)\n",
            "\u001b[K     |████████████████████████████████| 112kB 54.5MB/s \n",
            "\u001b[?25hRequirement already satisfied: tzlocal==1.5.1 in /usr/local/lib/python3.6/dist-packages (from extract-msg==0.23.1->textract) (1.5.1)\n",
            "Collecting pycryptodome\n",
            "\u001b[?25l  Downloading https://files.pythonhosted.org/packages/ad/16/9627ab0493894a11c68e46000dbcc82f578c8ff06bc2980dcd016aea9bd3/pycryptodome-3.10.1-cp35-abi3-manylinux2010_x86_64.whl (1.9MB)\n",
            "\u001b[K     |████████████████████████████████| 1.9MB 34.2MB/s \n",
            "\u001b[?25hRequirement already satisfied: sortedcontainers in /usr/local/lib/python3.6/dist-packages (from pdfminer.six==20181108->textract) (2.3.0)\n",
            "Requirement already satisfied: lxml>=3.1.0 in /usr/local/lib/python3.6/dist-packages (from python-pptx==0.6.18->textract) (4.2.6)\n",
            "Requirement already satisfied: Pillow>=3.3.2 in /usr/local/lib/python3.6/dist-packages (from python-pptx==0.6.18->textract) (7.0.0)\n",
            "Collecting XlsxWriter>=0.5.7\n",
            "\u001b[?25l  Downloading https://files.pythonhosted.org/packages/6b/41/bf1aae04932d1eaffee1fc5f8b38ca47bbbf07d765129539bc4bcce1ce0c/XlsxWriter-1.3.7-py2.py3-none-any.whl (144kB)\n",
            "\u001b[K     |████████████████████████████████| 153kB 55.9MB/s \n",
            "\u001b[?25hCollecting soupsieve>=1.2\n",
            "  Downloading https://files.pythonhosted.org/packages/41/e7/3617a4b988ed7744743fb0dbba5aa0a6e3f95a9557b43f8c4740d296b48a/soupsieve-2.2-py3-none-any.whl\n",
            "Requirement already satisfied: pytz in /usr/local/lib/python3.6/dist-packages (from tzlocal==1.5.1->extract-msg==0.23.1->textract) (2018.9)\n",
            "Building wheels for collected packages: python-pptx, EbookLib, olefile\n",
            "  Building wheel for python-pptx (setup.py) ... \u001b[?25l\u001b[?25hdone\n",
            "  Created wheel for python-pptx: filename=python_pptx-0.6.18-cp36-none-any.whl size=275707 sha256=1ad7ebbde827ab54e294b0a4c16c530f558d786658c0aec4fe972c79acc70cb9\n",
            "  Stored in directory: /root/.cache/pip/wheels/1f/1f/2c/29acca422b420a0b5210bd2cd7e9669804520d602d2462f20b\n",
            "  Building wheel for EbookLib (setup.py) ... \u001b[?25l\u001b[?25hdone\n",
            "  Created wheel for EbookLib: filename=EbookLib-0.17.1-cp36-none-any.whl size=38163 sha256=f5d96edb98a1465e371e12f53469c35588d57fcb797c02d5f455bddaaa5077fa\n",
            "  Stored in directory: /root/.cache/pip/wheels/84/11/01/951369cbbf8f96878786a1f4da68bd7ac19a5d945b38e03d54\n",
            "  Building wheel for olefile (setup.py) ... \u001b[?25l\u001b[?25hdone\n",
            "  Created wheel for olefile: filename=olefile-0.46-py2.py3-none-any.whl size=35416 sha256=20acb2966803cd3e412333cca4f4fba12c62b53116a491a3ef4a597299053a70\n",
            "  Stored in directory: /root/.cache/pip/wheels/4b/f4/11/bc4166107c27f07fd7bba707ffcb439619197638a1ac986df3\n",
            "Successfully built python-pptx EbookLib olefile\n",
            "\u001b[31mERROR: tensorflow 2.4.1 has requirement six~=1.15.0, but you'll have six 1.12.0 which is incompatible.\u001b[0m\n",
            "\u001b[31mERROR: tensorflow 2.4.1 has requirement wrapt~=1.12.1, but you'll have wrapt 1.10.11 which is incompatible.\u001b[0m\n",
            "\u001b[31mERROR: nbclient 0.5.2 has requirement jupyter-client>=6.1.5, but you'll have jupyter-client 5.3.5 which is incompatible.\u001b[0m\n",
            "\u001b[31mERROR: google-colab 1.0.0 has requirement six~=1.15.0, but you'll have six 1.12.0 which is incompatible.\u001b[0m\n",
            "\u001b[31mERROR: fastai 1.0.61 has requirement spacy>=2.0.18; python_version < \"3.8\", but you'll have spacy 2.0.16 which is incompatible.\u001b[0m\n",
            "\u001b[31mERROR: datascience 0.10.6 has requirement folium==0.2.1, but you'll have folium 0.8.3 which is incompatible.\u001b[0m\n",
            "\u001b[31mERROR: albumentations 0.1.12 has requirement imgaug<0.2.7,>=0.2.5, but you'll have imgaug 0.2.9 which is incompatible.\u001b[0m\n",
            "Installing collected packages: six, argcomplete, imapclient, olefile, extract-msg, pycryptodome, pdfminer.six, XlsxWriter, python-pptx, SpeechRecognition, EbookLib, xlrd, soupsieve, beautifulsoup4, textract\n",
            "  Found existing installation: six 1.15.0\n",
            "    Uninstalling six-1.15.0:\n",
            "      Successfully uninstalled six-1.15.0\n",
            "  Found existing installation: xlrd 1.1.0\n",
            "    Uninstalling xlrd-1.1.0:\n",
            "      Successfully uninstalled xlrd-1.1.0\n",
            "  Found existing installation: beautifulsoup4 4.6.3\n",
            "    Uninstalling beautifulsoup4-4.6.3:\n",
            "      Successfully uninstalled beautifulsoup4-4.6.3\n",
            "Successfully installed EbookLib-0.17.1 SpeechRecognition-3.8.1 XlsxWriter-1.3.7 argcomplete-1.10.0 beautifulsoup4-4.8.0 extract-msg-0.23.1 imapclient-2.1.0 olefile-0.46 pdfminer.six-20181108 pycryptodome-3.10.1 python-pptx-0.6.18 six-1.12.0 soupsieve-2.2 textract-1.6.3 xlrd-1.2.0\n"
          ],
          "name": "stdout"
        },
        {
          "output_type": "display_data",
          "data": {
            "application/vnd.colab-display-data+json": {
              "pip_warning": {
                "packages": [
                  "six"
                ]
              }
            }
          },
          "metadata": {
            "tags": []
          }
        }
      ]
    },
    {
      "cell_type": "code",
      "metadata": {
        "id": "ZTlnkafK8c-q"
      },
      "source": [
        "text = textract.process(\"/content/drive/MyDrive/UI Developer/Profiles/Naveed Ahmed N.docx\")\r\n",
        "text = text.decode(\"utf-8\")"
      ],
      "execution_count": 51,
      "outputs": []
    },
    {
      "cell_type": "code",
      "metadata": {
        "colab": {
          "base_uri": "https://localhost:8080/",
          "height": 171
        },
        "id": "VQgTi0wb8qvj",
        "outputId": "41926f68-d768-488f-f8d2-305e93fc08e3"
      },
      "source": [
        "text"
      ],
      "execution_count": 49,
      "outputs": [
        {
          "output_type": "execute_result",
          "data": {
            "application/vnd.google.colaboratory.intrinsic+json": {
              "type": "string"
            },
            "text/plain": [
              "'Amit Saxena\\n\\nMob:+919617332777\\n\\ne-Mail: asaxena2@outlook.com\\n\\nOverview\\n\\nI brings in about 10+ years of IT industry experience in the areas of Mobile Application Development  as a professional IOS (objective-c / Swift), Android, Phone-gap app developer with more than 4.7 years experience . I have worked on various types of Mobile application IOS projects (Implementation, Support and Upgrade) involving close interaction with client IT teams and Business.  I had worked for different customers like Parkland Oils, Quick Cross(Car sailing), ADO, HLF and Soon .\\n\\nMy primary expertise is in IOS (objective-c / swift )  application Development like Chatting app, Social networking apps, IOT automation connection with the different devices .  while that used Cocoa touch , third party API and Firebase backend . I have worked on upgrade, development, customization, enhancements and support of IOS (objective-c / swift ) .\\n\\nMain Goal: Producing the \"Highest Quality\" work for clients and to satisfy them 100% in time . \\n\\nI have high skills in IOS (objective-c , swift, Cocoa touch ) app and mastered at app developing tools and other relative parts such as networking and backend. \\n\\n\\n\\nMy expertise: \\n\\n\\n\\n- Web service integration (based on XML, JSON, Firebase & process images, audios, videos), \\n\\n- 3rd party API \\n\\n- Local DB management (Core Data, SQLite), \\n\\n- Push Notification, \\n\\n- Handling Camera, \\n\\n- GPS, \\n\\n- Google API, \\n\\n- Advertisement(iAd, AdMob, RevMob), \\n\\nIn App Purchase, \\n\\nLive Streaming \\n\\n- UI design, and so on. \\n\\n\\n\\nApp Experiences: \\n\\n\\n\\nI developed lots of iOS apps using objective-c , Swift, Cocoa pod such as \\n\\n\\n\\n   Social Networking apps, Dating apps, Google Map/GPS system apps,  Chat apps, \\n\\n   Restaurant delivery apps, Photo / Video apps, Health / Fitness apps, Educational apps, \\n\\n   Navigation apps, Travel apps ,  Business Advertisement apps, IOT Device connection app,\\n\\n   Live streaming .\\n\\n\\n\\n\\n\\nEngagement Experience\\n\\n\\n\\nI have worked as IOS Developer / Technical Consultant for clients. I was involved in interacting with the functional owners to understand the requirement and subsequently designing and developing an efficient and optimum solution for the same. I was also involved in creating viable specification and acceptance criteria for the identified solutions. Developing the solution testing strategy and plan and participating in or managing user acceptance testing.\\n\\nIn other engagements in my career, I was involved in coordinating with Business for the business/functional requirements, Design & Development, developing reports. I have been a part of the team in critical situations and supported, helped and shared the work. Have mingled with the team members of all cadres. I have indulged in corrective communication and achieved desired results in the deliverables of important objects.\\n\\n\\n\\n\\n\\n\\n\\n\\n\\nIOS Developer\\xa0(crayonsys)\\n\\n \\n\\nLocation: Hyderabad\\n\\nDuration: 39 Months (1th July 2015 to till Date)\\n\\nVersion: IOS Developer\\n\\n\\n\\nProject Description:\\n\\n \\n\\n1) \\xa0\\xa0\\xa0Client: On Contract with Big 4 Consulting Firm(Canada)\\n\\n \\n\\nThe project was for High Liner Food services, It gave me an opportunity to work on it’s IOS Application, Swift & Objective-c . Customization of the old Version into the New Version in Objective-C. Create the New Screen for the old objects.\\n\\n. Third Party API Integration .\\n\\n.  Forms and reports development in objective-c\\n\\n \\n\\n2) \\xa0\\xa0\\xa0Client: On Contract with Big 4 Consulting Firm(Spain)\\n\\n        Project was for ADO Grupo, I got opportunities to work on IOS application, Custom Report \\n\\n        and Enhancement for Standard Report development in Objective-c with the integration  of  backend  \\n\\n        API .\\n\\na)\\tForecast \\n\\nb)\\tKardex\\n\\nc) \\tCustomer Consumption \\n\\nd)\\tRow Exit .\\n\\n \\n\\n3) \\xa0\\xa0\\xa0Client: On Contract with Big 4 Consulting Firm (Canada)\\n\\nProject for Parkland oil Inc. \\xa0\\xa0Custom upgrade report, Standard Enhancement Report, Standard and Custom Interactive Application.\\n\\na)\\tFixed Asset Extract Report From the front-end forms .\\n\\nb)\\tEnhancement of screens from old version to new versions with new updates .\\n\\n \\n\\n \\n\\n Responsibilities:\\n\\n    \\n\\n 1)\\tAs IOS Developer I am responsible for UI/UX Development (Objective-c / Swift ) & 3rd \\n\\n             party API  integration.\\n\\n2)\\t Local DB management (Core Data, SQLite) for the ERP data into the mobile app.\\n\\n3)\\t Push Notification for Supply chain Management & Manufacturing internally  .\\n\\n4)         GPS, Google API, Advertisement(iAd, AdMob, RevMob)\\n\\n\\n\\n \\n\\nIOS Developer / Analyst (Ebunch Canada)\\n\\n \\n\\nLocation: Bhopal\\n\\nDuration: 16Months (5th  March 2014  to 26th June 2015)\\n\\n \\n\\nProject Description: The projects is for clients for Mercedes and Toyota the global Car manufacturing company. To support and offer high quality, innovative solutions as per their requirements\\n\\n \\n\\nResponsibilities:\\n\\nUnderstanding the business requirement from the Client.\\n\\nCreate Wire-frame design, TSD as per the client requirement  for Mobile application (IOS ).\\n\\nModify the designing the Optimum Solution as suggested by the customer in IOS using objective-c / Swift & Cocoa touch.\\n\\nPreparation of TSD for the given Functional specification.\\n\\nTo conduct unit and other testing of programs and conduct troubleshooting.\\n\\n\\n\\nConducting teleconferences with the project lead/client on a regular basis, updating and clarifying the requirement specifications.\\n\\n\\n\\n\\n\\nOracle JD Edwards \\xa0Technical  Consultant \\xa0(Nine One Solution)\\n\\n \\n\\nDuration: \\xa026 Months (1st Jan 2012 to 26th Feb 2014)\\n\\nVersion: JD Edwards Enterprise One E8.12.\\n\\n \\n\\nProject Description: The project was for Manufacturing customers, It gave me an opportunity to work on all the things which JD Edwards has to offer be it Applications, UBE\\'s, Business functions and BSSV etc . Create Forms design on JDE forms development.\\n\\n \\n\\nResponsibilities:\\n\\n\\xa0Understanding the business requirement from the Client.\\n\\nModify the Reports where code changes were involved, designing the Optimum Solution as suggested by the customer.\\n\\nInvolve in JDE Architecture DD, TDA, BSVW, FDA, Power Forms, RDA, UDC, BSFN.\\n\\nTo conduct unit and other testing of programs and conduct troubleshooting\\n\\n\\n\\n \\n\\nBusiness Analyst \\xa0(Kangaroo Software)\\n\\n \\n\\nLocation: Indore\\n\\nDuration: \\xa038Months (10th September 2008 to 21st October 2011)\\n\\nVersion: Website and Mobile Application\\n\\nProject Description: The projects is for an Australian Client, a global IT company and software Service provider that believes in the power of Information Technologies. To support and offer high quality, innovative solutions from everyday essentials to instrument for web, Mobile application.\\n\\n\\n\\nResponsibilities:\\n\\nRequirement gathering from the users and preparing technical specification, Develop wire-frame, Web(PHP, Wordpress) and Mobile Applications(Android and IOS).\\n\\nInvolved in the business requirements development phase, understanding the Clients requirements and providing the solutions to user requirements.\\n\\nDelivering and working along with the offshore development team of 20 members.\\n\\nInvolved in providing solutions during the testing of reports, analysis and design for the required modifications/customizations.\\n\\n \\n\\n \\n\\nBusiness Analyst (Korea Link Share)\\n\\n \\n\\nLocation: Bhopal\\n\\nDuration: 13Months (9th August 2007 to 9th August 2008)\\n\\nVersion: Website and Mobile Applications\\n\\nProject Description:\\n\\nThe projects is for a global Garments company and software Service provider that believes in the power of Information Technologies. To support and offer high quality, innovative solutions from everyday essentials to instrument for every web, every application. All from the most cited different brands. Which is based out of North America, South Korea. \\xa0I have been involved in development for its Global requirements.\\n\\nResponsibilities:\\n\\nDelivering and working along with the off-shore development team.\\n\\nManagement and Development Activity for the package solutions project.\\n\\nCreate the Technical documentation and wire frame.\\n\\nWorked on different types of web and Mobile development .\\n\\n \\n\\n\\n\\n\\n\\n\\n\\nEducation\\n\\nUniversity – Course / Education\\n\\nJIVAJI UNIVERCITY Gwalior – B.Sc  Computer Science (2006)\\n\\n\\n\\nTechnology Competencies\\n\\n\\t\\t\\tMobile \\t: IOS Swift / objective-c , Cocoa touch \\n\\n\\t\\t\\tERP\\t\\t: Oracle JDEdwards Enterprise One\\n\\n\\t\\t\\tOther tools          : E1 tool set, OMW \\n\\nOperating Systems: Windows\\n\\n\\n\\n\\n\\nRecognition: Successfully Completed 4 End to end Implementation and Upgrade projects, appreciated for his work by customer as well as the team. Created and presented an excellent image of the company and its services to customers, and coordinated and communicated well with clientele and management at all levels. Appreciations received from every customer he worked so for.'"
            ]
          },
          "metadata": {
            "tags": []
          },
          "execution_count": 49
        }
      ]
    },
    {
      "cell_type": "code",
      "metadata": {
        "id": "PLSgYw-U5I-b"
      },
      "source": [
        "# libraries which will help us tackle the text data\r\n",
        "import os\r\n",
        "import docx2txt\r\n",
        "import re"
      ],
      "execution_count": 53,
      "outputs": []
    },
    {
      "cell_type": "code",
      "metadata": {
        "id": "NJGVwxFk5yIG"
      },
      "source": [
        "text = docx2txt.process(\"/content/drive/MyDrive/UI Developer/Profiles/Amit Saxena.docx\")\r\n",
        "# /content/drive/MyDrive/UI Developer/Profiles/SUMIT SAGAR.doc"
      ],
      "execution_count": 42,
      "outputs": []
    },
    {
      "cell_type": "code",
      "metadata": {
        "colab": {
          "base_uri": "https://localhost:8080/",
          "height": 171
        },
        "id": "nrHGVLS0534J",
        "outputId": "8f21909f-74a1-4da0-8ce7-61ea4d1e22e9"
      },
      "source": [
        "text"
      ],
      "execution_count": 33,
      "outputs": [
        {
          "output_type": "execute_result",
          "data": {
            "application/vnd.google.colaboratory.intrinsic+json": {
              "type": "string"
            },
            "text/plain": [
              "'Amit Saxena\\n\\nMob:+919617332777\\n\\ne-Mail: asaxena2@outlook.com\\n\\nOverview\\n\\nI brings in about 10+ years of IT industry experience in the areas of Mobile Application Development  as a professional IOS (objective-c / Swift), Android, Phone-gap app developer with more than 4.7 years experience . I have worked on various types of Mobile application IOS projects (Implementation, Support and Upgrade) involving close interaction with client IT teams and Business.  I had worked for different customers like Parkland Oils, Quick Cross(Car sailing), ADO, HLF and Soon .\\n\\nMy primary expertise is in IOS (objective-c / swift )  application Development like Chatting app, Social networking apps, IOT automation connection with the different devices .  while that used Cocoa touch , third party API and Firebase backend . I have worked on upgrade, development, customization, enhancements and support of IOS (objective-c / swift ) .\\n\\nMain Goal: Producing the \"Highest Quality\" work for clients and to satisfy them 100% in time . \\n\\nI have high skills in IOS (objective-c , swift, Cocoa touch ) app and mastered at app developing tools and other relative parts such as networking and backend. \\n\\n\\n\\nMy expertise: \\n\\n\\n\\n- Web service integration (based on XML, JSON, Firebase & process images, audios, videos), \\n\\n- 3rd party API \\n\\n- Local DB management (Core Data, SQLite), \\n\\n- Push Notification, \\n\\n- Handling Camera, \\n\\n- GPS, \\n\\n- Google API, \\n\\n- Advertisement(iAd, AdMob, RevMob), \\n\\nIn App Purchase, \\n\\nLive Streaming \\n\\n- UI design, and so on. \\n\\n\\n\\nApp Experiences: \\n\\n\\n\\nI developed lots of iOS apps using objective-c , Swift, Cocoa pod such as \\n\\n\\n\\n   Social Networking apps, Dating apps, Google Map/GPS system apps,  Chat apps, \\n\\n   Restaurant delivery apps, Photo / Video apps, Health / Fitness apps, Educational apps, \\n\\n   Navigation apps, Travel apps ,  Business Advertisement apps, IOT Device connection app,\\n\\n   Live streaming .\\n\\n\\n\\n\\n\\nEngagement Experience\\n\\n\\n\\nI have worked as IOS Developer / Technical Consultant for clients. I was involved in interacting with the functional owners to understand the requirement and subsequently designing and developing an efficient and optimum solution for the same. I was also involved in creating viable specification and acceptance criteria for the identified solutions. Developing the solution testing strategy and plan and participating in or managing user acceptance testing.\\n\\nIn other engagements in my career, I was involved in coordinating with Business for the business/functional requirements, Design & Development, developing reports. I have been a part of the team in critical situations and supported, helped and shared the work. Have mingled with the team members of all cadres. I have indulged in corrective communication and achieved desired results in the deliverables of important objects.\\n\\n\\n\\n\\n\\n\\n\\n\\n\\nIOS Developer\\xa0(crayonsys)\\n\\n \\n\\nLocation: Hyderabad\\n\\nDuration: 39 Months (1th July 2015 to till Date)\\n\\nVersion: IOS Developer\\n\\n\\n\\nProject Description:\\n\\n \\n\\n1) \\xa0\\xa0\\xa0Client: On Contract with Big 4 Consulting Firm(Canada)\\n\\n \\n\\nThe project was for High Liner Food services, It gave me an opportunity to work on it’s IOS Application, Swift & Objective-c . Customization of the old Version into the New Version in Objective-C. Create the New Screen for the old objects.\\n\\n. Third Party API Integration .\\n\\n.  Forms and reports development in objective-c\\n\\n \\n\\n2) \\xa0\\xa0\\xa0Client: On Contract with Big 4 Consulting Firm(Spain)\\n\\n        Project was for ADO Grupo, I got opportunities to work on IOS application, Custom Report \\n\\n        and Enhancement for Standard Report development in Objective-c with the integration  of  backend  \\n\\n        API .\\n\\na)\\tForecast \\n\\nb)\\tKardex\\n\\nc) \\tCustomer Consumption \\n\\nd)\\tRow Exit .\\n\\n \\n\\n3) \\xa0\\xa0\\xa0Client: On Contract with Big 4 Consulting Firm (Canada)\\n\\nProject for Parkland oil Inc. \\xa0\\xa0Custom upgrade report, Standard Enhancement Report, Standard and Custom Interactive Application.\\n\\na)\\tFixed Asset Extract Report From the front-end forms .\\n\\nb)\\tEnhancement of screens from old version to new versions with new updates .\\n\\n \\n\\n \\n\\n Responsibilities:\\n\\n    \\n\\n 1)\\tAs IOS Developer I am responsible for UI/UX Development (Objective-c / Swift ) & 3rd \\n\\n             party API  integration.\\n\\n2)\\t Local DB management (Core Data, SQLite) for the ERP data into the mobile app.\\n\\n3)\\t Push Notification for Supply chain Management & Manufacturing internally  .\\n\\n4)         GPS, Google API, Advertisement(iAd, AdMob, RevMob)\\n\\n\\n\\n \\n\\nIOS Developer / Analyst (Ebunch Canada)\\n\\n \\n\\nLocation: Bhopal\\n\\nDuration: 16Months (5th  March 2014  to 26th June 2015)\\n\\n \\n\\nProject Description: The projects is for clients for Mercedes and Toyota the global Car manufacturing company. To support and offer high quality, innovative solutions as per their requirements\\n\\n \\n\\nResponsibilities:\\n\\nUnderstanding the business requirement from the Client.\\n\\nCreate Wire-frame design, TSD as per the client requirement  for Mobile application (IOS ).\\n\\nModify the designing the Optimum Solution as suggested by the customer in IOS using objective-c / Swift & Cocoa touch.\\n\\nPreparation of TSD for the given Functional specification.\\n\\nTo conduct unit and other testing of programs and conduct troubleshooting.\\n\\n\\n\\nConducting teleconferences with the project lead/client on a regular basis, updating and clarifying the requirement specifications.\\n\\n\\n\\n\\n\\nOracle JD Edwards \\xa0Technical  Consultant \\xa0(Nine One Solution)\\n\\n \\n\\nDuration: \\xa026 Months (1st Jan 2012 to 26th Feb 2014)\\n\\nVersion: JD Edwards Enterprise One E8.12.\\n\\n \\n\\nProject Description: The project was for Manufacturing customers, It gave me an opportunity to work on all the things which JD Edwards has to offer be it Applications, UBE\\'s, Business functions and BSSV etc . Create Forms design on JDE forms development.\\n\\n \\n\\nResponsibilities:\\n\\n\\xa0Understanding the business requirement from the Client.\\n\\nModify the Reports where code changes were involved, designing the Optimum Solution as suggested by the customer.\\n\\nInvolve in JDE Architecture DD, TDA, BSVW, FDA, Power Forms, RDA, UDC, BSFN.\\n\\nTo conduct unit and other testing of programs and conduct troubleshooting\\n\\n\\n\\n \\n\\nBusiness Analyst \\xa0(Kangaroo Software)\\n\\n \\n\\nLocation: Indore\\n\\nDuration: \\xa038Months (10th September 2008 to 21st October 2011)\\n\\nVersion: Website and Mobile Application\\n\\nProject Description: The projects is for an Australian Client, a global IT company and software Service provider that believes in the power of Information Technologies. To support and offer high quality, innovative solutions from everyday essentials to instrument for web, Mobile application.\\n\\n\\n\\nResponsibilities:\\n\\nRequirement gathering from the users and preparing technical specification, Develop wire-frame, Web(PHP, Wordpress) and Mobile Applications(Android and IOS).\\n\\nInvolved in the business requirements development phase, understanding the Clients requirements and providing the solutions to user requirements.\\n\\nDelivering and working along with the offshore development team of 20 members.\\n\\nInvolved in providing solutions during the testing of reports, analysis and design for the required modifications/customizations.\\n\\n \\n\\n \\n\\nBusiness Analyst (Korea Link Share)\\n\\n \\n\\nLocation: Bhopal\\n\\nDuration: 13Months (9th August 2007 to 9th August 2008)\\n\\nVersion: Website and Mobile Applications\\n\\nProject Description:\\n\\nThe projects is for a global Garments company and software Service provider that believes in the power of Information Technologies. To support and offer high quality, innovative solutions from everyday essentials to instrument for every web, every application. All from the most cited different brands. Which is based out of North America, South Korea. \\xa0I have been involved in development for its Global requirements.\\n\\nResponsibilities:\\n\\nDelivering and working along with the off-shore development team.\\n\\nManagement and Development Activity for the package solutions project.\\n\\nCreate the Technical documentation and wire frame.\\n\\nWorked on different types of web and Mobile development .\\n\\n \\n\\n\\n\\n\\n\\n\\n\\nEducation\\n\\nUniversity – Course / Education\\n\\nJIVAJI UNIVERCITY Gwalior – B.Sc  Computer Science (2006)\\n\\n\\n\\nTechnology Competencies\\n\\n\\t\\t\\tMobile \\t: IOS Swift / objective-c , Cocoa touch \\n\\n\\t\\t\\tERP\\t\\t: Oracle JDEdwards Enterprise One\\n\\n\\t\\t\\tOther tools          : E1 tool set, OMW \\n\\nOperating Systems: Windows\\n\\n\\n\\n\\n\\nRecognition: Successfully Completed 4 End to end Implementation and Upgrade projects, appreciated for his work by customer as well as the team. Created and presented an excellent image of the company and its services to customers, and coordinated and communicated well with clientele and management at all levels. Appreciations received from every customer he worked so for.'"
            ]
          },
          "metadata": {
            "tags": []
          },
          "execution_count": 33
        }
      ]
    },
    {
      "cell_type": "code",
      "metadata": {
        "colab": {
          "base_uri": "https://localhost:8080/"
        },
        "id": "egwdjMc22cYH",
        "outputId": "6f8371b4-f313-4410-a9db-c27b4cf7205b"
      },
      "source": [
        "# for example just considering .docx files\r\n",
        "# and only working with ui developer\r\n",
        "for filename in os.listdir(path):\r\n",
        "  try:\r\n",
        "    if filename.endswith(\".docx\"): \r\n",
        "        file = os.path.join(path, filename)\r\n",
        "        text = docx2txt.process(file)\r\n",
        "        experience = extract_experience(text)\r\n",
        "        role, skills =  extract_information(text)\r\n",
        "        print(filename)\r\n",
        "        summary = role + \"with experience \" + experience +\" have skills \" + \",\".join(skills)\r\n",
        "        print(summary)\r\n",
        "        print(\"-----------------------------------------------------\")\r\n",
        "  except:\r\n",
        "    pass\r\n",
        "        "
      ],
      "execution_count": 57,
      "outputs": [
        {
          "output_type": "stream",
          "text": [
            "Sumit Kumar.docx\n",
            "Sumit Kumar\n",
            "\n",
            "Seniorwith experience 3 years have skills Contact,SUMMARY,C#/Vb.net,Jquery,and,C, ,ASP.NET, ,ADO.NET,WCF,MVC,Entity,Jquery,AngularJS,SQL,Server,Cursors,Indexes,SQL,implementation,ASP,HEWITT,Gurgaon,Genpact,Gurgaon,Noida,Gurgaon,ASP.NET,HTML,XML,CSS,JQuery,Java,\n",
            "\n",
            ",Angular,C#,VB,C,Server,ADO,Academic,Computer,DIT,Dehradun,Patna,GRSC,Nawada,Bihar,Academy,Patna,Technology,),  ,MVC,Entity,AngularJS,Visual,Sql,Project,Radio,Angularjs,Angularjs,Stored,Procedure,Functions,Cursors,Angle,WCF,SQL,Technology,),  ,MVC,Entity,AngularJS,Visual,Studio,Services,Health,       ,UI,C#.,Triggers,Cursors,Server,Technology,C#,VB.net, ,), ,Jquery,SQL, WCF,Visual,Order,UI,C#.,Triggers,Cursors,Analysis, ASP.NET,Java,Script,Jquery,SQL,Entity,reporting,Reporting,Validation,Triggers,Cursors,Analysis, ASP.NET,Java,Script,Jquery,web,,,WCF,Sql,Pages,WCF,Validation,Functions,Triggers,Impact Analysis Design and,CURRICULAR,Member,Artistco’,a,KNOWN\n",
            "-----------------------------------------------------\n",
            "Saurabh Srivastav.docx\n",
            "with experience 4 years have skills Résumé,                                           India: +91,\n",
            "\n",
            " ,-198,Laxmi,Saket,HCL,Pvt,Corporation,Noida,project,Currency,Windows,MS Windows Server,Compatibles\n",
            "\n",
            "Database\n",
            "\n",
            " ,SQL Server 2005,MS VSS,,Visual,M,2003/2007/2010,ADO,ASP.NET,HTML,CSS,JavaScript,ASP,IIS 5.0 /,.NET,T,SQL,Computer,May,Greater,Admin,HCL,development,ASP.NET,.Net,Sql,R2,asp,Ajax,Admin,SAP,Technology,#,ASP.NET,.Net,Sql,R2,asp,Ajax,Animal,Buffalo,Finance,Budget,University,Technology,ASP.NET,.Net,Sql,R2,asp,Ajax,Corporation,Corporation,Online,System,Daily,Diary,Budget,Tendupatta,Reserve,Corporation,Technology,ASP.NET,Sql,2005,asp,Ajax,Windows,Other,Commodity,use,C#.NET,.NET,4.0,MS,SQL,MBA,PGDBM,phases,development,ASP.NET,Sql,2005,asp,Ajax,\n",
            "\n",
            " ,Noida,Pushp,GurGaon,Lucknow,development,ASP.NET,Sql,JEE,AIEEE,CAT,Online,SQL,Cheap,Hotel,Flight,coaches,partners,Agents,Apartments,Pvt,ASP.NET,SQL,#,Chandra,+91\n",
            "-----------------------------------------------------\n",
            "SANTHOSH N.docx\n",
            "with experience 8 years have skills SANTHOSH,Servlets,JSP,Struts,Spring,Webservices,Analysis,Design,Development,Testing,JBoss,jQuery,Dojo,Angularjs,Emberjs,HTML5,CSS3,C,Java,Servlets,JSP,HTML,CSS,Webservices,Oracle,MySQL \n",
            "\n",
            "J2EE,Spring,Spring,JDBC,JPA,Hibernate,Server,JBoss,NetBeans,IntelliJ,Visual,Sablime,Atom,WEB,Maven,Gradle,Gulp,Grunt,JQuery,DOJO,GWT,Angularjs,Angular,Cordova,Ionic,Emberjs,Redux,Career,Causeway,Hydrabad,2012,Frameworks,Coding,Reducer,Integration,Cordova,angular,Managing,Assigned,risk,Struts, ,Services,Mongodb\n",
            "\n",
            ",Coding,MASH,JBPM,ESB Based applications in,Hibernate,JPA,Web,Services,Dojo\n",
            "\n",
            ",Coding,HTML,DOJO,DOJO,JQuery,Hibernate,Web,Services,JavaScript,Colony,\n",
            "\n",
            "\t\t    \t,Domlure,\n",
            "\n",
            "\t\t    \t,Domlure,Bangalore,Mandle,Chittoor,Andhra\n",
            "-----------------------------------------------------\n",
            "PRASANNA KUMAR MUDULI.docx\n",
            "with experience 8 years have skills ,,C,Java,Scripts,Angular,JS,SQL,Development,C,AJAX,HTML,CSS,JAVA,SCRIPT,ASP.Net,API,Angular,Js,developing,VIEW,Stored, ,/SQL,Co-ordination skills with,Applications,Client,Design,Planning,Execution,Indiabulls,DELHI,Oct,Pvt,ORISSA,Vconnect.com,Lagos,Nigeria,Systems,Windows,/,Windows, ,ASP.NET,C#.Net,ADO.Net,ASP.Net,JS,JAVA,SCRIPT,SJquery,AJAX,HTML,CSS,SQL Server 2008,Oracle 9i,ORISSA,JQuery, ,HTML,Web,KYC,E-sign the document,JavaScript,Jquery,Oracle,Web,Api,Jquery,Credit, Operation,C#.NET,ASP.Net,JavaScript,Jquery,Oracle,Web,Api,C#,Oracle,Sql,Server,WCF,Acceptance,Status,C#,Oracle,Sql,Server,WCF,SYSTEMS,PVT,LTD,Vendor,Job,Accounts,feature,Procedures,ASP.Net,JavaScript,SQL,AARDEE SOLUTION PVT.LTD,JQuery,Module,ASP.Net,JavaScript,SQL,ASP.NET,bags,gifts,etc,JQUERY,Java,C#.NET,ASP.Net,JavaScript,SQL,SERVER,T,ASP.NET,Admin,Hindi,\n",
            "\n",
            ",CurrentAddress,FlatNo-3,F,Palam,Sector-7,Dwarka,New\n",
            "-----------------------------------------------------\n",
            "Dasaradha Nimmala.docx\n",
            "Dasaradha Nimmala                                                                                                                                                            \n",
            "\n",
            "with experience 5 years have skills Requirement Analysis,Design,Development,System,Debugging,Reviews,Implementation,Documentation,C#.Net,ASP.Net,Angular,WebAPI,RESTful,Services,WEB,Services,WCF,Services,html5,css3,Bootstrap,,,Typescript,Angular,JavaScript,al, ,JQuery,LINQ,Ado.net,SQL,ASP,MVC4,TDD,TFS,GIT,JIRA,Service,Center,Health,domains,Stored Procedures,Triggers,VSS,SVN,TFS,Perforce,Agile,Scrum,V,Waterfall models,job,Asp.net,Html5,AngularJS2,Typescript,Protractor,Angular,Bootstrap,Css3,XML,JavaScript,JQuery,Ado.net,VB,,,SQLite,MS,Access,SQL,IIS,Apache,7/xp,Windows,2008,2012,Eclipse,SVN,TFS,Git,Consultancy,Bangalore,2011,Web,Hadoop,Technologies,Agile,Scrum,Methodologies,Lean &,Processes,Angularjs2,TypeScript,Jquery,Javascript,AnuglarMaterial,Bootstrap,Protractor, ,Jasmine,Swagger,Angularjs,Automation,Configuring,UI,Html5,CSS3,AngularJS,SQL,2012,JSON,Perforce,Eclipse,Lab,Admin,Lab,Support,phytologic,HCP,Lab,Admin,orders,C#.Net,Sql,Excel,XML,LINQ,TF,Automobile,MES,way,PurchagedDirect,MachineBurden,FixeBurden,ASP.Net,Html,Javascript,Jquery,Css,SQLServer2012,MVC3,XML,LINQ,Open,XML,Rad,Svn,Sql,Website,intended,SCOUT,Console,Endpoint,VPGate,ASP,Creating HTML design page as per,Implementation,Corporation,USA,ASP,C,Html,Javascript,Jquery,Css,XML,Sql,2005,IIS 6.0,VB 6.0\n",
            "\n",
            "Role,Management,Customization,Administration,CRM,Vendor,HRM,Assets,Project,General,Document,Information,Reports,Development,Testing\n",
            "-----------------------------------------------------\n",
            "Amit Saxena.docx\n",
            "Amit Saxena\n",
            "\n",
            "with experience 7 years have skills areas,Android,Phone,Support,Upgrade,Business,ADO,HLF,Soon,Social,IOT,development,customization,\"Highest Quality,swift,Cocoa,XML,JSON,Firebase,audios,\n",
            "\n",
            ",SQLite,\n",
            "\n",
            "- Push Notification,\n",
            "\n",
            "- Handling Camera,\n",
            "\n",
            "- GPS,\n",
            "\n",
            "-,API,\n",
            "\n",
            ",Advertisement(iAd,AdMob,RevMob,\n",
            "\n",
            ",Purchase,\n",
            "\n",
            ",on,Swift,Cocoa,Dating,Google,apps, ,\n",
            "\n",
            "   Restaurant delivery apps,Photo,Health,Educational,,,\n",
            "\n",
            "   Navigation, Business Advertisement apps,IOT Device,Design & Development,developing reports,deliverables,Swift &,Customization,\n",
            "\n",
            ",I,Custom,API,Customer,Standard,Report,Standard,Custom,Google,API,Advertisement(iAd,AdMob,RevMob,March,Car,Client,Client,TDA,BSVW,FDA,Power,Forms,RDA,UDC,BSFN,September,October,Mobile,Client,Technologies,Web(PHP,Wordpress,Mobile,South,Korea,Technology,Competencies,Cocoa,Oracle,OMW \n",
            "\n",
            ",team\n",
            "-----------------------------------------------------\n"
          ],
          "name": "stdout"
        }
      ]
    },
    {
      "cell_type": "code",
      "metadata": {
        "id": "ScuufBF33WTa"
      },
      "source": [
        "# calculation\r\n",
        "# we can extract keywords and compare using tf idf or any semantic model\r\n",
        "# we can also just count number of skills and see how many skills keywords are there in resumes\r\n",
        "jd = \"/content/drive/MyDrive/UI Developer/JD - UI Developer.docx\"\r\n",
        "jd_text = docx2txt.process(jd)\r\n",
        "role, skills = extract_information(jd_text)"
      ],
      "execution_count": 59,
      "outputs": []
    },
    {
      "cell_type": "code",
      "metadata": {
        "colab": {
          "base_uri": "https://localhost:8080/"
        },
        "id": "fLh8hyEzAuKr",
        "outputId": "3034e958-573f-444b-c7fb-69f092dbf4d7"
      },
      "source": [
        "skills"
      ],
      "execution_count": 61,
      "outputs": [
        {
          "output_type": "execute_result",
          "data": {
            "text/plain": [
              "['Angular',\n",
              " 'Javascript',\n",
              " 'CSS',\n",
              " 'Responsive Website',\n",
              " 'Cross Brower Compliance',\n",
              " 'React',\n",
              " 'Vue',\n",
              " 'Backbone',\n",
              " 'Ember',\n",
              " 'jQuery',\n",
              " 'D3',\n",
              " 'JS',\n",
              " 'SVG',\n",
              " 'HTML5',\n",
              " 'CSS3',\n",
              " 'GITLAB',\n",
              " 'MockServer']"
            ]
          },
          "metadata": {
            "tags": []
          },
          "execution_count": 61
        }
      ]
    },
    {
      "cell_type": "code",
      "metadata": {
        "id": "XZeKAji-AvCR"
      },
      "source": [
        "skills.append(role)"
      ],
      "execution_count": 63,
      "outputs": []
    },
    {
      "cell_type": "code",
      "metadata": {
        "colab": {
          "base_uri": "https://localhost:8080/"
        },
        "id": "Qk53dF_aDmkq",
        "outputId": "5b62ec71-c77f-410a-d7c5-67be669bc1c0"
      },
      "source": [
        "! python3 -m spacy download en"
      ],
      "execution_count": 66,
      "outputs": [
        {
          "output_type": "stream",
          "text": [
            "Requirement already satisfied: en_core_web_sm==2.0.0 from https://github.com/explosion/spacy-models/releases/download/en_core_web_sm-2.0.0/en_core_web_sm-2.0.0.tar.gz#egg=en_core_web_sm==2.0.0 in /usr/local/lib/python3.6/dist-packages (2.0.0)\n",
            "\n",
            "\u001b[93m    Linking successful\u001b[0m\n",
            "    /usr/local/lib/python3.6/dist-packages/en_core_web_sm -->\n",
            "    /usr/local/lib/python3.6/dist-packages/spacy/data/en\n",
            "\n",
            "    You can now load the model via spacy.load('en')\n",
            "\n"
          ],
          "name": "stdout"
        }
      ]
    },
    {
      "cell_type": "code",
      "metadata": {
        "id": "iFI5vE7RDXSL"
      },
      "source": [
        "import spacy\r\n",
        "nlp = spacy.load('en')\r\n"
      ],
      "execution_count": 67,
      "outputs": []
    },
    {
      "cell_type": "code",
      "metadata": {
        "id": "dc4ob8YOA5R2"
      },
      "source": [
        "def rank_resume(jd_path, resume_folder):\r\n",
        "  scores = []\r\n",
        "  jd_text = docx2txt.process(jd)\r\n",
        "  doc1 = nlp(jd_text)\r\n",
        "\r\n",
        "  for filename in os.listdir(path):\r\n",
        "  \r\n",
        "    if filename.endswith(\".docx\"): \r\n",
        "        file = os.path.join(path, filename)\r\n",
        "        text = docx2txt.process(file)\r\n",
        "        doc2 = nlp(text)\r\n",
        "        # using spacy module to measure similarity between requirement file and resumes and storing the value\r\n",
        "        scores.append((filename,doc1.similarity(doc2)))\r\n",
        "  return scores\r\n",
        "\r\n",
        "\r\n",
        "\r\n",
        "\r\n"
      ],
      "execution_count": 71,
      "outputs": []
    },
    {
      "cell_type": "code",
      "metadata": {
        "id": "5IXGHkRHBVM1"
      },
      "source": [
        "score_card = rank_resume(jd, '/content/drive/MyDrive/UI Developer/Profiles')"
      ],
      "execution_count": 73,
      "outputs": []
    },
    {
      "cell_type": "code",
      "metadata": {
        "colab": {
          "base_uri": "https://localhost:8080/"
        },
        "id": "kbBIPB0kFJQt",
        "outputId": "f96371aa-76e7-46ae-ca9c-d314be9cc88c"
      },
      "source": [
        "score_card"
      ],
      "execution_count": 74,
      "outputs": [
        {
          "output_type": "execute_result",
          "data": {
            "text/plain": [
              "[('Satya Brat Pandey.docx', 0.8596437013366629),\n",
              " ('Sumit Kumar.docx', 0.8886985662620437),\n",
              " ('Saurabh Srivastav.docx', 0.9415996437525384),\n",
              " ('Santhosh Kumar P.docx', 0.8942667096862694),\n",
              " ('SANTHOSH N.docx', 0.9235010476793195),\n",
              " ('PRASANNA KUMAR MUDULI.docx', 0.9242632818997886),\n",
              " ('Dasaradha Nimmala.docx', 0.9345078874872458),\n",
              " ('Naveed Ahmed N.docx', 0.9137958957858358),\n",
              " ('Sabeer Ali S.docx', 0.950334041972454),\n",
              " ('RAVI CHAURASIA.docx', 0.7872249073503081),\n",
              " ('Amit Saxena.docx', 0.9452849120561492),\n",
              " ('ABHISHEK MISHRA.docx', 0.9454086094561358)]"
            ]
          },
          "metadata": {
            "tags": []
          },
          "execution_count": 74
        }
      ]
    },
    {
      "cell_type": "code",
      "metadata": {
        "id": "PujjQ6keFN9U"
      },
      "source": [
        "# the person who had the maximum matching\r\n",
        "result = max(score_card, key = lambda i : i[1])"
      ],
      "execution_count": 77,
      "outputs": []
    },
    {
      "cell_type": "code",
      "metadata": {
        "colab": {
          "base_uri": "https://localhost:8080/"
        },
        "id": "NeMPmBMCFzWE",
        "outputId": "f55811ea-2b28-47bd-d7b1-8ed75424d18e"
      },
      "source": [
        "result"
      ],
      "execution_count": 78,
      "outputs": [
        {
          "output_type": "execute_result",
          "data": {
            "text/plain": [
              "('Sabeer Ali S.docx', 0.950334041972454)"
            ]
          },
          "metadata": {
            "tags": []
          },
          "execution_count": 78
        }
      ]
    },
    {
      "cell_type": "code",
      "metadata": {
        "id": "ekWaQHQzGW66"
      },
      "source": [
        ""
      ],
      "execution_count": null,
      "outputs": []
    }
  ]
}