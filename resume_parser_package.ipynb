{
  "nbformat": 4,
  "nbformat_minor": 0,
  "metadata": {
    "colab": {
      "name": "resume_parser_package",
      "provenance": []
    },
    "kernelspec": {
      "name": "python3",
      "display_name": "Python 3"
    }
  },
  "cells": [
    {
      "cell_type": "code",
      "metadata": {
        "colab": {
          "base_uri": "https://localhost:8080/",
          "height": 1000
        },
        "id": "_ako1qU0prz3",
        "outputId": "61e73281-cb6a-4042-94cb-75eefc98beeb"
      },
      "source": [
        "! pip install pyresparser"
      ],
      "execution_count": 1,
      "outputs": [
        {
          "output_type": "stream",
          "text": [
            "Collecting pyresparser\n",
            "\u001b[?25l  Downloading https://files.pythonhosted.org/packages/be/1c/0b84af1e9b9f5236c9a7f3e7bd306a4cb5c71eef15cc27ed343a3ceb5996/pyresparser-1.0.6-py3-none-any.whl (4.2MB)\n",
            "\u001b[K     |████████████████████████████████| 4.2MB 10.0MB/s \n",
            "\u001b[?25hRequirement already satisfied: six>=1.12.0 in /usr/local/lib/python3.6/dist-packages (from pyresparser) (1.15.0)\n",
            "Requirement already satisfied: cymem>=2.0.2 in /usr/local/lib/python3.6/dist-packages (from pyresparser) (2.0.5)\n",
            "Requirement already satisfied: thinc>=7.0.4 in /usr/local/lib/python3.6/dist-packages (from pyresparser) (7.4.0)\n",
            "Requirement already satisfied: blis>=0.2.4 in /usr/local/lib/python3.6/dist-packages (from pyresparser) (0.4.1)\n",
            "Collecting jsonschema>=3.0.1\n",
            "\u001b[?25l  Downloading https://files.pythonhosted.org/packages/c5/8f/51e89ce52a085483359217bc72cdbf6e75ee595d5b1d4b5ade40c7e018b8/jsonschema-3.2.0-py2.py3-none-any.whl (56kB)\n",
            "\u001b[K     |████████████████████████████████| 61kB 7.8MB/s \n",
            "\u001b[?25hCollecting pycryptodome>=3.8.2\n",
            "\u001b[?25l  Downloading https://files.pythonhosted.org/packages/ad/16/9627ab0493894a11c68e46000dbcc82f578c8ff06bc2980dcd016aea9bd3/pycryptodome-3.10.1-cp35-abi3-manylinux2010_x86_64.whl (1.9MB)\n",
            "\u001b[K     |████████████████████████████████| 1.9MB 51.6MB/s \n",
            "\u001b[?25hCollecting docx2txt>=0.7\n",
            "  Downloading https://files.pythonhosted.org/packages/7d/7d/60ee3f2b16d9bfdfa72e8599470a2c1a5b759cb113c6fe1006be28359327/docx2txt-0.8.tar.gz\n",
            "Collecting urllib3>=1.25.3\n",
            "\u001b[?25l  Downloading https://files.pythonhosted.org/packages/23/fc/8a49991f7905261f9ca9df5aa9b58363c3c821ce3e7f671895442b7100f2/urllib3-1.26.3-py2.py3-none-any.whl (137kB)\n",
            "\u001b[K     |████████████████████████████████| 143kB 42.9MB/s \n",
            "\u001b[?25hCollecting pytz>=2019.1\n",
            "\u001b[?25l  Downloading https://files.pythonhosted.org/packages/70/94/784178ca5dd892a98f113cdd923372024dc04b8d40abe77ca76b5fb90ca6/pytz-2021.1-py2.py3-none-any.whl (510kB)\n",
            "\u001b[K     |████████████████████████████████| 512kB 41.7MB/s \n",
            "\u001b[?25hRequirement already satisfied: numpy>=1.16.4 in /usr/local/lib/python3.6/dist-packages (from pyresparser) (1.19.5)\n",
            "Requirement already satisfied: srsly>=0.0.7 in /usr/local/lib/python3.6/dist-packages (from pyresparser) (1.0.5)\n",
            "Requirement already satisfied: sortedcontainers>=2.1.0 in /usr/local/lib/python3.6/dist-packages (from pyresparser) (2.3.0)\n",
            "Requirement already satisfied: wasabi>=0.2.2 in /usr/local/lib/python3.6/dist-packages (from pyresparser) (0.8.2)\n",
            "Requirement already satisfied: chardet>=3.0.4 in /usr/local/lib/python3.6/dist-packages (from pyresparser) (3.0.4)\n",
            "Requirement already satisfied: attrs>=19.1.0 in /usr/local/lib/python3.6/dist-packages (from pyresparser) (20.3.0)\n",
            "Requirement already satisfied: certifi>=2019.6.16 in /usr/local/lib/python3.6/dist-packages (from pyresparser) (2020.12.5)\n",
            "Requirement already satisfied: python-dateutil>=2.8.0 in /usr/local/lib/python3.6/dist-packages (from pyresparser) (2.8.1)\n",
            "Requirement already satisfied: idna>=2.8 in /usr/local/lib/python3.6/dist-packages (from pyresparser) (2.10)\n",
            "Requirement already satisfied: spacy>=2.1.4 in /usr/local/lib/python3.6/dist-packages (from pyresparser) (2.2.4)\n",
            "Requirement already satisfied: preshed>=2.0.1 in /usr/local/lib/python3.6/dist-packages (from pyresparser) (3.0.5)\n",
            "Collecting nltk>=3.4.3\n",
            "\u001b[?25l  Downloading https://files.pythonhosted.org/packages/92/75/ce35194d8e3022203cca0d2f896dbb88689f9b3fce8e9f9cff942913519d/nltk-3.5.zip (1.4MB)\n",
            "\u001b[K     |████████████████████████████████| 1.4MB 42.6MB/s \n",
            "\u001b[?25hRequirement already satisfied: requests>=2.22.0 in /usr/local/lib/python3.6/dist-packages (from pyresparser) (2.23.0)\n",
            "Collecting pdfminer.six>=20181108\n",
            "\u001b[?25l  Downloading https://files.pythonhosted.org/packages/93/f3/4fec7dabe8802ebec46141345bf714cd1fc7d93cb74ddde917e4b6d97d88/pdfminer.six-20201018-py3-none-any.whl (5.6MB)\n",
            "\u001b[K     |████████████████████████████████| 5.6MB 36.9MB/s \n",
            "\u001b[?25hRequirement already satisfied: pyrsistent>=0.15.2 in /usr/local/lib/python3.6/dist-packages (from pyresparser) (0.17.3)\n",
            "Requirement already satisfied: tqdm>=4.32.2 in /usr/local/lib/python3.6/dist-packages (from pyresparser) (4.41.1)\n",
            "Requirement already satisfied: pandas>=0.24.2 in /usr/local/lib/python3.6/dist-packages (from pyresparser) (1.1.5)\n",
            "Requirement already satisfied: catalogue<1.1.0,>=0.0.7 in /usr/local/lib/python3.6/dist-packages (from thinc>=7.0.4->pyresparser) (1.0.0)\n",
            "Requirement already satisfied: plac<1.2.0,>=0.9.6 in /usr/local/lib/python3.6/dist-packages (from thinc>=7.0.4->pyresparser) (1.1.3)\n",
            "Requirement already satisfied: murmurhash<1.1.0,>=0.28.0 in /usr/local/lib/python3.6/dist-packages (from thinc>=7.0.4->pyresparser) (1.0.5)\n",
            "Requirement already satisfied: importlib-metadata; python_version < \"3.8\" in /usr/local/lib/python3.6/dist-packages (from jsonschema>=3.0.1->pyresparser) (3.4.0)\n",
            "Requirement already satisfied: setuptools in /usr/local/lib/python3.6/dist-packages (from jsonschema>=3.0.1->pyresparser) (53.0.0)\n",
            "Requirement already satisfied: click in /usr/local/lib/python3.6/dist-packages (from nltk>=3.4.3->pyresparser) (7.1.2)\n",
            "Requirement already satisfied: joblib in /usr/local/lib/python3.6/dist-packages (from nltk>=3.4.3->pyresparser) (1.0.0)\n",
            "Requirement already satisfied: regex in /usr/local/lib/python3.6/dist-packages (from nltk>=3.4.3->pyresparser) (2019.12.20)\n",
            "Collecting cryptography\n",
            "\u001b[?25l  Downloading https://files.pythonhosted.org/packages/2f/61/6f4765822d1f3878c913755bd99212f1ab0b9fa808fc2197ace0790f4cdb/cryptography-3.4.5-cp36-abi3-manylinux2014_x86_64.whl (3.2MB)\n",
            "\u001b[K     |████████████████████████████████| 3.2MB 40.9MB/s \n",
            "\u001b[?25hRequirement already satisfied: zipp>=0.5 in /usr/local/lib/python3.6/dist-packages (from importlib-metadata; python_version < \"3.8\"->jsonschema>=3.0.1->pyresparser) (3.4.0)\n",
            "Requirement already satisfied: typing-extensions>=3.6.4; python_version < \"3.8\" in /usr/local/lib/python3.6/dist-packages (from importlib-metadata; python_version < \"3.8\"->jsonschema>=3.0.1->pyresparser) (3.7.4.3)\n",
            "Requirement already satisfied: cffi>=1.12 in /usr/local/lib/python3.6/dist-packages (from cryptography->pdfminer.six>=20181108->pyresparser) (1.14.4)\n",
            "Requirement already satisfied: pycparser in /usr/local/lib/python3.6/dist-packages (from cffi>=1.12->cryptography->pdfminer.six>=20181108->pyresparser) (2.20)\n",
            "Building wheels for collected packages: docx2txt, nltk\n",
            "  Building wheel for docx2txt (setup.py) ... \u001b[?25l\u001b[?25hdone\n",
            "  Created wheel for docx2txt: filename=docx2txt-0.8-cp36-none-any.whl size=3960 sha256=487b8df25cf1038223a44b56936c6391cbe2b3a82fd6116574fecf5af1777d5d\n",
            "  Stored in directory: /root/.cache/pip/wheels/b2/1f/26/a051209bbb77fc6bcfae2bb7e01fa0ff941b82292ab084d596\n",
            "  Building wheel for nltk (setup.py) ... \u001b[?25l\u001b[?25hdone\n",
            "  Created wheel for nltk: filename=nltk-3.5-cp36-none-any.whl size=1434677 sha256=7c32697503625b2e994b46601c414769241dd3c801f3fe0646d20e8181abfd45\n",
            "  Stored in directory: /root/.cache/pip/wheels/ae/8c/3f/b1fe0ba04555b08b57ab52ab7f86023639a526d8bc8d384306\n",
            "Successfully built docx2txt nltk\n",
            "\u001b[31mERROR: requests 2.23.0 has requirement urllib3!=1.25.0,!=1.25.1,<1.26,>=1.21.1, but you'll have urllib3 1.26.3 which is incompatible.\u001b[0m\n",
            "\u001b[31mERROR: nbclient 0.5.2 has requirement jupyter-client>=6.1.5, but you'll have jupyter-client 5.3.5 which is incompatible.\u001b[0m\n",
            "\u001b[31mERROR: datascience 0.10.6 has requirement folium==0.2.1, but you'll have folium 0.8.3 which is incompatible.\u001b[0m\n",
            "Installing collected packages: jsonschema, pycryptodome, docx2txt, urllib3, pytz, nltk, cryptography, pdfminer.six, pyresparser\n",
            "  Found existing installation: jsonschema 2.6.0\n",
            "    Uninstalling jsonschema-2.6.0:\n",
            "      Successfully uninstalled jsonschema-2.6.0\n",
            "  Found existing installation: urllib3 1.24.3\n",
            "    Uninstalling urllib3-1.24.3:\n",
            "      Successfully uninstalled urllib3-1.24.3\n",
            "  Found existing installation: pytz 2018.9\n",
            "    Uninstalling pytz-2018.9:\n",
            "      Successfully uninstalled pytz-2018.9\n",
            "  Found existing installation: nltk 3.2.5\n",
            "    Uninstalling nltk-3.2.5:\n",
            "      Successfully uninstalled nltk-3.2.5\n",
            "Successfully installed cryptography-3.4.5 docx2txt-0.8 jsonschema-3.2.0 nltk-3.5 pdfminer.six-20201018 pycryptodome-3.10.1 pyresparser-1.0.6 pytz-2021.1 urllib3-1.26.3\n"
          ],
          "name": "stdout"
        },
        {
          "output_type": "display_data",
          "data": {
            "application/vnd.colab-display-data+json": {
              "pip_warning": {
                "packages": [
                  "pytz"
                ]
              }
            }
          },
          "metadata": {
            "tags": []
          }
        }
      ]
    },
    {
      "cell_type": "code",
      "metadata": {
        "colab": {
          "base_uri": "https://localhost:8080/"
        },
        "id": "QLOFERzQpxiL",
        "outputId": "50427384-1a17-47c2-cb62-5d3d1e313fa4"
      },
      "source": [
        "import nltk\r\n",
        "nltk.download('stopwords')\r\n",
        "! pip install docx2txt\r\n",
        "import docx2txt"
      ],
      "execution_count": 1,
      "outputs": [
        {
          "output_type": "stream",
          "text": [
            "[nltk_data] Downloading package stopwords to /root/nltk_data...\n",
            "[nltk_data]   Unzipping corpora/stopwords.zip.\n"
          ],
          "name": "stderr"
        },
        {
          "output_type": "stream",
          "text": [
            "Requirement already satisfied: docx2txt in /usr/local/lib/python3.6/dist-packages (0.8)\n"
          ],
          "name": "stdout"
        }
      ]
    },
    {
      "cell_type": "code",
      "metadata": {
        "id": "VTXSZv6EqEFi"
      },
      "source": [
        "from pyresparser import ResumeParser"
      ],
      "execution_count": 2,
      "outputs": []
    },
    {
      "cell_type": "code",
      "metadata": {
        "id": "ZB8VvdN_qLZZ"
      },
      "source": [
        "# Resume parser will extract all the important topics keywords\r\n",
        "data = ResumeParser('/content/Rajarshee Ghosh.docx').get_extracted_data()"
      ],
      "execution_count": 4,
      "outputs": []
    },
    {
      "cell_type": "code",
      "metadata": {
        "colab": {
          "base_uri": "https://localhost:8080/"
        },
        "id": "P1saZDr7s2is",
        "outputId": "51a51ffd-2bc8-4ee4-add3-31e473beef09"
      },
      "source": [
        "data"
      ],
      "execution_count": 5,
      "outputs": [
        {
          "output_type": "execute_result",
          "data": {
            "text/plain": [
              "{'college_name': None,\n",
              " 'company_names': None,\n",
              " 'degree': None,\n",
              " 'designation': ['Business Analyst'],\n",
              " 'email': 'gh.rajarshee@gmail.com',\n",
              " 'experience': None,\n",
              " 'mobile_number': '9945298347',\n",
              " 'name': 'Rajarshee Ghosh',\n",
              " 'no_of_pages': None,\n",
              " 'skills': ['Queries',\n",
              "  'Supervising',\n",
              "  'Economics',\n",
              "  'Python',\n",
              "  'Hypothesis',\n",
              "  'Access',\n",
              "  'Hospital',\n",
              "  'Data analysis',\n",
              "  'Analyze',\n",
              "  'Troubleshooting',\n",
              "  'Sql',\n",
              "  'Plan',\n",
              "  'Reports',\n",
              "  'R',\n",
              "  'System',\n",
              "  'Process',\n",
              "  'Money',\n",
              "  'Research',\n",
              "  'Reporting',\n",
              "  'Proposal',\n",
              "  'International',\n",
              "  'Training',\n",
              "  'Market research',\n",
              "  'Requests',\n",
              "  'Mis',\n",
              "  'Excel',\n",
              "  'Ms excel',\n",
              "  'Email',\n",
              "  'Analysis',\n",
              "  'Sales',\n",
              "  'Responses',\n",
              "  'Sap',\n",
              "  'Communication',\n",
              "  'Analytical'],\n",
              " 'total_experience': 0}"
            ]
          },
          "metadata": {
            "tags": []
          },
          "execution_count": 5
        }
      ]
    },
    {
      "cell_type": "code",
      "metadata": {
        "id": "sqFTjHWIs7QT"
      },
      "source": [
        "import re\r\n",
        "\r\n",
        "skills = data['skills']\r\n",
        "\r\n",
        "# extracts information regarding experience \r\n",
        "def extract_experience(input_text):\r\n",
        "    return re.search(\"\\d+\\syears\", input_text).group(0)\r\n",
        "\r\n",
        "text = docx2txt.process(\"/content/Rajarshee Ghosh.docx\")\r\n",
        "experience = extract_experience(text)\r\n"
      ],
      "execution_count": 7,
      "outputs": []
    },
    {
      "cell_type": "code",
      "metadata": {
        "colab": {
          "base_uri": "https://localhost:8080/"
        },
        "id": "LfHiHs_vNhzr",
        "outputId": "2e7b4aec-cb36-4072-f494-2bc5a7f891cd"
      },
      "source": [
        "print(\" \".join(data['designation']) + \" having experience \"+experience +\" specialized in \"+ \",\".join(skills))"
      ],
      "execution_count": 9,
      "outputs": [
        {
          "output_type": "stream",
          "text": [
            "Business Analyst having experience 9 years specialized in Queries,Supervising,Economics,Python,Hypothesis,Access,Hospital,Data analysis,Analyze,Troubleshooting,Sql,Plan,Reports,R,System,Process,Money,Research,Reporting,Proposal,International,Training,Market research,Requests,Mis,Excel,Ms excel,Email,Analysis,Sales,Responses,Sap,Communication,Analytical\n"
          ],
          "name": "stdout"
        }
      ]
    },
    {
      "cell_type": "code",
      "metadata": {
        "id": "wMaI36CYN3P-"
      },
      "source": [
        ""
      ],
      "execution_count": null,
      "outputs": []
    }
  ]
}